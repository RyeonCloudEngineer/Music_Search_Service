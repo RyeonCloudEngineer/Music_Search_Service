{
 "cells": [
  {
   "cell_type": "markdown",
   "metadata": {},
   "source": [
    "# 가사 넣어서 테스트 부분을 해야지 모델이 안바뀜!! 주의!! "
   ]
  },
  {
   "cell_type": "markdown",
   "metadata": {},
   "source": [
    "## 텍스트 전처리(조사만 제거) TF-IDF로 단어 벡터화 "
   ]
  },
  {
   "cell_type": "code",
   "execution_count": 29,
   "metadata": {},
   "outputs": [
    {
     "name": "stdout",
     "output_type": "stream",
     "text": [
      "read_files = text/1960 started\n",
      "read_files = text/1970 started\n",
      "read_files = text/1980 started\n",
      "read_files = text/1990 started\n",
      "read_files = text/2000 started\n",
      "read_files = text/2010 started\n",
      "complete\n"
     ]
    }
   ],
   "source": [
    "import os, glob, pickle\n",
    "import tfidf\n",
    "import numpy as np\n",
    "\n",
    "# 변수 초기화\n",
    "y = []\n",
    "x = []\n",
    "\n",
    "# 전역변수 초기화\n",
    "tfidf.start()\n",
    "\n",
    "# nan값 오류 무시하기\n",
    "np.seterr(divide='ignore', invalid='ignore')\n",
    "\n",
    "# 디렉터리 내부의 텍스트 파일 목록 전체 처리\n",
    "def read_files(path, label):\n",
    "    print(\"read_files =\", path + \" started\")\n",
    "    files = glob.glob(path + \"/*.txt\")\n",
    "    for f in files:\n",
    "        if os.path.basename(f) == 'LICENSE.txt': continue\n",
    "        tfidf.add_file(f)\n",
    "        y.append(label)\n",
    "                \n",
    "read_files('text/1960', 0)\n",
    "read_files('text/1970', 0)\n",
    "read_files('text/1980', 1)\n",
    "read_files('text/1990', 1)\n",
    "read_files('text/2000', 2)\n",
    "read_files('text/2010', 2)\n",
    "\n",
    "x = tfidf.calc_files()\n",
    "\n",
    "print(\"complete\")"
   ]
  },
  {
   "cell_type": "markdown",
   "metadata": {},
   "source": [
    "## 파일 저장하기"
   ]
  },
  {
   "cell_type": "code",
   "execution_count": 30,
   "metadata": {
    "scrolled": true
   },
   "outputs": [
    {
     "name": "stdout",
     "output_type": "stream",
     "text": [
      "ok\n"
     ]
    }
   ],
   "source": [
    "pickle.dump([y, x], open('text/lyrics2.pickle', 'wb'))\n",
    "tfidf.save_dic('text/lyrics2-tfidf.dic')\n",
    "print('ok')"
   ]
  },
  {
   "cell_type": "markdown",
   "metadata": {},
   "source": [
    "## 머신러닝 분류 - 나이브베이즈 모델 학습시키기"
   ]
  },
  {
   "cell_type": "code",
   "execution_count": 1,
   "metadata": {},
   "outputs": [
    {
     "name": "stdout",
     "output_type": "stream",
     "text": [
      "정답률= 0.6428571428571429\n",
      "              precision    recall  f1-score   support\n",
      "\n",
      "           0       0.83      0.25      0.38       102\n",
      "           1       0.63      0.43      0.51       282\n",
      "           2       0.64      0.90      0.75       386\n",
      "\n",
      "    accuracy                           0.64       770\n",
      "   macro avg       0.70      0.53      0.55       770\n",
      "weighted avg       0.66      0.64      0.61       770\n",
      "\n"
     ]
    }
   ],
   "source": [
    "import pickle\n",
    "from sklearn.naive_bayes import GaussianNB\n",
    "from sklearn.model_selection import train_test_split\n",
    "import sklearn.metrics as metrics\n",
    "import numpy as np\n",
    "from numpy import *\n",
    "\n",
    "\n",
    "# TF-IDF 데이터베이스 읽어 들이기 \n",
    "data = pickle.load(open(\"text/lyrics2.pickle\", \"rb\"))\n",
    "x = data[1] # TF-IDF\n",
    "y = data[0] # 레이블\n",
    "# np.array 변환\n",
    "x = np.array(x)\n",
    "y = np.array(y)\n",
    "# x에 널값 0으로 변환, 널값이 있음\n",
    "where_are_NaNs = isnan(x)\n",
    "x[where_are_NaNs] = 0\n",
    "\n",
    "# 데이터 스플릿\n",
    "x_train, x_test, y_train, y_test = train_test_split(\\\n",
    "        x, y, test_size=0.2)\n",
    "\n",
    "# 나이브 베이즈로 학습하기\n",
    "model = GaussianNB()\n",
    "model.fit(x_train, y_train)\n",
    "\n",
    "# 평가하고 결과 출력하기 \n",
    "y_pred = model.predict(x_test)\n",
    "acc = metrics.accuracy_score(y_test, y_pred)\n",
    "rep = metrics.classification_report(y_test, y_pred)\n",
    "\n",
    "print(\"정답률=\", acc)\n",
    "print(rep)"
   ]
  },
  {
   "cell_type": "markdown",
   "metadata": {},
   "source": [
    "## 딥러닝으로 정확도 올려보기"
   ]
  },
  {
   "cell_type": "code",
   "execution_count": 10,
   "metadata": {},
   "outputs": [
    {
     "name": "stdout",
     "output_type": "stream",
     "text": [
      "38619\n",
      "Epoch 1/5\n",
      "5/5 [==============================] - 4s 714ms/step - loss: 1.0312 - accuracy: 0.4698 - val_loss: 0.7688 - val_accuracy: 0.6998\n",
      "Epoch 2/5\n",
      "5/5 [==============================] - 3s 610ms/step - loss: 0.6327 - accuracy: 0.7430 - val_loss: 0.6026 - val_accuracy: 0.7550\n",
      "Epoch 3/5\n",
      "5/5 [==============================] - 3s 643ms/step - loss: 0.3256 - accuracy: 0.9260 - val_loss: 0.5574 - val_accuracy: 0.7732\n",
      "Epoch 4/5\n",
      "5/5 [==============================] - 3s 650ms/step - loss: 0.1453 - accuracy: 0.9788 - val_loss: 0.5304 - val_accuracy: 0.7869\n",
      "Epoch 5/5\n",
      "5/5 [==============================] - 3s 604ms/step - loss: 0.0716 - accuracy: 0.9886 - val_loss: 0.5496 - val_accuracy: 0.7856\n",
      "49/49 [==============================] - 1s 23ms/step - loss: 0.5496 - accuracy: 0.7856\n",
      "정답률= 0.7855750322341919 loss= 0.5495928525924683\n"
     ]
    },
    {
     "data": {
      "image/png": "[encoded data removed]",
      "text/plain": [
       "<Figure size 432x288 with 1 Axes>"
      ]
     },
     "metadata": {
      "needs_background": "light"
     },
     "output_type": "display_data"
    },
    {
     "data": {
      "image/png": "[encoded data removed]",
      "text/plain": [
       "<Figure size 432x288 with 1 Axes>"
      ]
     },
     "metadata": {
      "needs_background": "light"
     },
     "output_type": "display_data"
    }
   ],
   "source": [
    "# import pickle\n",
    "from sklearn.model_selection import train_test_split\n",
    "import sklearn.metrics as metrics\n",
    "import keras\n",
    "from keras.utils.np_utils import to_categorical\n",
    "from tensorflow.keras.models import Sequential\n",
    "from tensorflow.keras.layers import Dense, Dropout\n",
    "from tensorflow.keras.optimizers import *\n",
    "import matplotlib.pyplot as plt\n",
    "import numpy as np\n",
    "import h5py\n",
    "\n",
    "from numpy import *\n",
    "\n",
    "# 분류할 레이블 수 \n",
    "nb_classes = 3\n",
    "\n",
    "# 데이터베이스 읽어 들이기\n",
    "data = pickle.load(open(\"text/lyrics2.pickle\", \"rb\"))\n",
    "y = data[0] # 레이블\n",
    "x = data[1] # TF-IDF\n",
    "x = np.array(x)\n",
    "y = np.array(y)\n",
    "where_are_NaNs = isnan(x)\n",
    "x[where_are_NaNs] = 0\n",
    "\n",
    "# 레이블 데이터를 One-hot 형식으로 변환하기 \n",
    "y = keras.utils.np_utils.to_categorical(y, nb_classes)\n",
    "in_size = x[0].shape[0]\n",
    "print(in_size)\n",
    "\n",
    "# 학습 전용과 테스트 전용으로 구분하기 \n",
    "x_train, x_test, y_train, y_test = train_test_split(\n",
    "        np.array(x), np.array(y), test_size=0.4)\n",
    "\n",
    "# MLP모델의 구조 정의하기 \n",
    "model = Sequential()\n",
    "model.add(Dense(512, activation='relu', input_shape=(in_size,)))\n",
    "model.add(Dropout(0.2))\n",
    "model.add(Dense(512, activation='relu'))\n",
    "model.add(Dropout(0.2))\n",
    "model.add(Dense(nb_classes, activation='softmax'))\n",
    "\n",
    "# 모델 컴파일하기 \n",
    "model.compile(\n",
    "    loss='categorical_crossentropy',\n",
    "    optimizer=RMSprop(),\n",
    "    metrics=['accuracy'])\n",
    "\n",
    "# 학습 실행하기 \n",
    "hist = model.fit(x_train, y_train,\n",
    "          batch_size=512,\n",
    "          epochs=5,\n",
    "          verbose=1,\n",
    "          validation_data=(x_test, y_test))\n",
    "2\n",
    "# 평가하기 \n",
    "score = model.evaluate(x_test, y_test, verbose=1)\n",
    "print(\"정답률=\", score[1], 'loss=', score[0])\n",
    "\n",
    "# 가중치데이터 저장하기 \n",
    "model.save_weights('./text/lyrics2-model.hdf5')\n",
    "\n",
    "# 학습 상태를 그래프로 그리기 \n",
    "plt.plot(hist.history['accuracy'])\n",
    "plt.plot(hist.history['val_accuracy'])\n",
    "plt.title('Accuracy')\n",
    "plt.legend(['train', 'test'], loc='upper left')\n",
    "plt.show()\n",
    "\n",
    "plt.plot(hist.history['loss'])\n",
    "plt.plot(hist.history['val_loss'])\n",
    "plt.title('Loss')\n",
    "plt.legend(['train', 'test'], loc='upper left')\n",
    "plt.show()"
   ]
  },
  {
   "cell_type": "markdown",
   "metadata": {},
   "source": [
    "# 가사 넣어서 테스트"
   ]
  },
  {
   "cell_type": "code",
   "execution_count": 1,
   "metadata": {},
   "outputs": [],
   "source": [
    "import pickle, tfidf\n",
    "import numpy as np\n",
    "import keras\n",
    "from tensorflow.keras.models import Sequential\n",
    "from tensorflow.keras.layers import Dense, Dropout\n",
    "from tensorflow.keras.optimizers import RMSprop\n",
    "from tensorflow.keras.models import model_from_json\n",
    "\n",
    "sunset_new = \"\"\"난 너를 사랑해\n",
    "Let's go Yes'll We're back again with 이문세\n",
    "That's right\n",
    "Fresh celebration 2008 It's bigbang yeah\n",
    "Yeah bust it\n",
    "그댄 아시나요 있잖아요\n",
    "지금 그대가 너무 보고파요\n",
    "고개 숙여 눈물 훔쳐요\n",
    "당신의 이름을 불러요\n",
    "꼭 이렇게 날 남겨두고\n",
    "떠나가야만 했는지\n",
    "너만 생각하면 머리 아퍼\n",
    "독하디 독한 술 같어\n",
    "술 뿐이겠어 병이지\n",
    "매일 앓아 누워 몇 번인지\n",
    "내일이면 또 잠깐 잊었다가 또\n",
    "모레쯤이면 생각나겠지만\n",
    "그래도 어떡해\n",
    "아직 내 사랑 유효한데\n",
    "돌아올 거라고 믿는데\n",
    "난 너만 기다리는데\n",
    "난 너를 사랑해\n",
    "(Oh I love you girl)\n",
    "이 세상은 너 뿐이야\n",
    "소리쳐 부르지만\n",
    "저 대답 없는\n",
    "노을만 붉게 타는데\"\"\"\n",
    "\n",
    "\n",
    "sunset_old = \"\"\"붉게 물든 노을 바라보면\n",
    "슬픈 그대 얼굴 생각이나\n",
    "고개 숙이네 눈물 흘러\n",
    "아무 말 할 수가 없지만\n",
    "난 너를 사랑하네\n",
    "이 세상은 너 뿐이야 소리쳐 부르지만\n",
    "저 대답 없는 노을만 붉게 타는데\n",
    "그 세월 속에 잊어야할\n",
    "기억들이 다시 생각나면 눈감아요\n",
    "소리 없이 그 이름 불러요\n",
    "아름다웠던 그대모습\n",
    "다시 볼 수 없는 것 알아요\n",
    "후회 없어 저 타는 노을 붉은 노을처럼\n",
    "난 너를 사랑하네\n",
    "이 세상은 너 뿐이야 소리쳐 부르지만\n",
    "저 대답 없는 노을만 붉게 타는데 \"\"\"\n",
    "\n"
   ]
  },
  {
   "cell_type": "code",
   "execution_count": 3,
   "metadata": {
    "scrolled": true
   },
   "outputs": [
    {
     "name": "stdout",
     "output_type": "stream",
     "text": [
      "[0.02303383 0.89836854 0.07859756]\n",
      "8090 ( 0.89836854 )\n",
      "[9.0710993e-04 1.1999636e-02 9.8709327e-01]\n",
      "0010 ( 0.98709327 )\n"
     ]
    }
   ],
   "source": [
    "# 모델 정의하고 가중치 데이터 불러오기\n",
    "nb_classes = 3\n",
    "model = Sequential()\n",
    "model.add(Dense(512, activation='relu', input_shape=(38619,)))\n",
    "model.add(Dropout(0.2))\n",
    "model.add(Dense(512, activation='relu'))\n",
    "model.add(Dropout(0.2))\n",
    "model.add(Dense(nb_classes, activation='softmax'))\n",
    "model.compile(\n",
    "    loss='categorical_crossentropy',\n",
    "    optimizer=RMSprop(),\n",
    "    metrics=['accuracy'])\n",
    "model.load_weights('/Users/shift/Desktop/LABs/NLP/semi-pj_lyrics/data/lyrics_analytics/text/lyrics2-model.hdf5')\n",
    "global word_dic, dt_dic, files\n",
    "# TF-IDF 사전 읽기\n",
    "c = tfidf.load_dic(\"/Users/shift/Desktop/LABs/NLP/semi-pj_lyrics/data/lyrics_analytics/text/lyrics2-tfidf.dic\")\n",
    "\n",
    "def lyrics_check(text):\n",
    "    # 레이블 정의하기\n",
    "    LABELS = [\"6070\",\"8090\",\"0010\"]\n",
    "    # TF-IDF 벡터로 변환하기 \n",
    "    data = tfidf.calc_text(text)\n",
    "    # MLP로 예측하기 \n",
    "    pre = model.predict(np.array([data]))[0]\n",
    "    n = pre.argmax()\n",
    "    print(pre)\n",
    "    print(LABELS[n], \"(\", pre[n], \")\")\n",
    "    return LABELS[n], float(pre[n]), int(n) \n",
    "\n",
    "if __name__ == '__main__':\n",
    "    lyrics_check(sunset_old)\n",
    "    lyrics_check(sunset_new)"
   ]
  },
  {
   "cell_type": "code",
   "execution_count": null,
   "metadata": {},
   "outputs": [],
   "source": []
  },
  {
   "cell_type": "markdown",
   "metadata": {},
   "source": [
    "## Flask"
   ]
  },
  {
   "cell_type": "code",
   "execution_count": null,
   "metadata": {},
   "outputs": [
    {
     "name": "stdout",
     "output_type": "stream",
     "text": [
      " * Serving Flask app \"__main__\" (lazy loading)\n",
      " * Environment: production\n",
      "   WARNING: This is a development server. Do not use it in a production deployment.\n",
      "   Use a production WSGI server instead.\n",
      " * Debug mode: off\n"
     ]
    },
    {
     "name": "stderr",
     "output_type": "stream",
     "text": [
      " * Running on http://127.0.0.1:8000/ (Press CTRL+C to quit)\n",
      "127.0.0.1 - - [20/Mar/2021 16:39:20] \"\u001b[37mGET / HTTP/1.1\u001b[0m\" 200 -\n"
     ]
    },
    {
     "name": "stdout",
     "output_type": "stream",
     "text": [
      "q= 난 너를 사랑하네\n",
      "\n",
      "이 세상은 너뿐이야\n",
      "\n",
      "소리쳐 불러봐도\n",
      "\n",
      "저 대답없는 노을만\n"
     ]
    },
    {
     "name": "stderr",
     "output_type": "stream",
     "text": [
      "127.0.0.1 - - [20/Mar/2021 16:39:39] \"\u001b[37mGET /api?q=난%20너를%20사랑하네%0A%0A이%20세상은%20너뿐이야%0A%0A소리쳐%20불러봐도%0A%0A저%20대답없는%20노을만 HTTP/1.1\u001b[0m\" 200 -\n"
     ]
    },
    {
     "name": "stdout",
     "output_type": "stream",
     "text": [
      "[0.00568357 0.7662561  0.22806029]\n",
      "8090 ( 0.7662561 )\n"
     ]
    }
   ],
   "source": [
    "from flask import Flask, request\n",
    "import json\n",
    "import tfidf\n",
    "\n",
    "# HTTP 서버 실행하기\n",
    "app = Flask(__name__)\n",
    "\n",
    "# 루트에 접근할 경우 \n",
    "@app.route('/', methods=['GET'])\n",
    "def index():\n",
    "    with open(\"index.html\", \"rb\") as f:\n",
    "        return f.read()\n",
    "\n",
    "# /api에 접근할 경우\n",
    "@app.route('/api', methods=['GET'])\n",
    "def api():\n",
    "    \n",
    "    # URL 매개 변수 추출하기 \n",
    "    q = request.args.get('q', '')\n",
    "    if q == '':\n",
    "        return '{\"label\": \"가사를 입력해주세요\", \"per\":0}'\n",
    "    print(\"q=\", q)    \n",
    "    \n",
    "    # 텍스트 카테고리 판별하기   \n",
    "    label, per, no = lyrics_check(q)\n",
    "    per = str(round(float(per), 4))\n",
    "    \n",
    "    # 결과를 JSON으로 출력하기\n",
    "    return json.dumps({\n",
    "      \"label\": label, \n",
    "      \"per\": per,\n",
    "      \"year\": no\n",
    "    })\n",
    "\n",
    "if __name__ == \"__main__\":    \n",
    "    # 서버 실행하기\n",
    "    app.run(host=\"127.0.0.1\", port=\"8000\")"
   ]
  }
 ],
 "metadata": {
  "kernelspec": {
   "display_name": "Python 3",
   "language": "python",
   "name": "python3"
  },
  "language_info": {
   "codemirror_mode": {
    "name": "ipython",
    "version": 3
   },
   "file_extension": ".py",
   "mimetype": "text/x-python",
   "name": "python",
   "nbconvert_exporter": "python",
   "pygments_lexer": "ipython3",
   "version": "3.8.8"
  }
 },
 "nbformat": 4,
 "nbformat_minor": 4
}
