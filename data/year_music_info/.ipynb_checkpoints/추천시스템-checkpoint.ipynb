{
 "cells": [
  {
   "cell_type": "code",
   "execution_count": 5,
   "metadata": {
    "ExecuteTime": {
     "end_time": "2021-03-19T08:11:03.180794Z",
     "start_time": "2021-03-19T08:11:03.064511Z"
    }
   },
   "outputs": [],
   "source": [
    "import urllib.request\n",
    "import pandas as pd\n",
    "import numpy as np\n",
    "import matplotlib.pyplot as plt\n",
    "import requests\n",
    "import re\n",
    "from PIL import Image\n",
    "from io import BytesIO\n",
    "from nltk.tokenize import RegexpTokenizer\n",
    "import nltk\n",
    "from gensim.models import Word2Vec\n",
    "from gensim.models import KeyedVectors\n",
    "from nltk.corpus import stopwords\n",
    "from sklearn.metrics.pairwise import cosine_similarity\n",
    "from konlpy.tag import Okt\n",
    "import matplotlib.font_manager as fm\n",
    "# import cv2"
   ]
  },
  {
   "cell_type": "code",
   "execution_count": 30,
   "metadata": {
    "ExecuteTime": {
     "end_time": "2021-03-19T07:49:45.721145Z",
     "start_time": "2021-03-19T07:49:45.470496Z"
    }
   },
   "outputs": [],
   "source": [
    "df1 = pd.read_csv(\"final_1960s_info_v3.csv\", encoding='utf-8')\n",
    "df2 = pd.read_csv(\"final_1970s_info_v3.csv\", encoding='utf-8')\n",
    "df3 = pd.read_csv(\"final_1980s_info_v3.csv\", encoding='utf-8')\n",
    "df4 = pd.read_csv(\"final_1990s_info_v3.csv\", encoding='utf-8')\n",
    "df5 = pd.read_csv(\"final_2000s_info_v3.csv\", encoding='utf-8')\n",
    "df6 = pd.read_csv(\"final_2010s_info_v3.csv\", encoding='utf-8')"
   ]
  },
  {
   "cell_type": "markdown",
   "metadata": {},
   "source": [
    "## 데이터프레임 concat() 후 가사에 None 값 제거 "
   ]
  },
  {
   "cell_type": "code",
   "execution_count": 106,
   "metadata": {
    "ExecuteTime": {
     "end_time": "2021-03-19T07:51:06.122357Z",
     "start_time": "2021-03-19T07:51:06.088757Z"
    },
    "scrolled": true
   },
   "outputs": [
    {
     "data": {
      "text/html": [
       "<div>\n",
       "<style scoped>\n",
       "    .dataframe tbody tr th:only-of-type {\n",
       "        vertical-align: middle;\n",
       "    }\n",
       "\n",
       "    .dataframe tbody tr th {\n",
       "        vertical-align: top;\n",
       "    }\n",
       "\n",
       "    .dataframe thead th {\n",
       "        text-align: right;\n",
       "    }\n",
       "</style>\n",
       "<table border=\"1\" class=\"dataframe\">\n",
       "  <thead>\n",
       "    <tr style=\"text-align: right;\">\n",
       "      <th></th>\n",
       "      <th>Unnamed: 0</th>\n",
       "      <th>id</th>\n",
       "      <th>name</th>\n",
       "      <th>singer</th>\n",
       "      <th>img</th>\n",
       "      <th>lyrics</th>\n",
       "      <th>jenre</th>\n",
       "    </tr>\n",
       "  </thead>\n",
       "  <tbody>\n",
       "    <tr>\n",
       "      <th>0</th>\n",
       "      <td>0</td>\n",
       "      <td>4083218</td>\n",
       "      <td>내일또 만납시다</td>\n",
       "      <td>금호동</td>\n",
       "      <td>https://cdnimg.melon.co.kr/cm/album/images/021...</td>\n",
       "      <td>하루의 일을 끝내고 돌아가는 거리엔 사람의 물결 하늘엔 별이 하나 둘 반짝이면 가...</td>\n",
       "      <td>성인가요</td>\n",
       "    </tr>\n",
       "    <tr>\n",
       "      <th>1</th>\n",
       "      <td>1</td>\n",
       "      <td>1003023</td>\n",
       "      <td>눈물의 연평도</td>\n",
       "      <td>최숙자</td>\n",
       "      <td>https://cdnimg.melon.co.kr/cm/album/images/003...</td>\n",
       "      <td>조기를 담뿍잡아 기폭을 올리고 온다던 그배는 어이하여 아니오나 수평선 바라보며 그...</td>\n",
       "      <td>성인가요</td>\n",
       "    </tr>\n",
       "    <tr>\n",
       "      <th>2</th>\n",
       "      <td>2</td>\n",
       "      <td>1754987</td>\n",
       "      <td>님이라 부르리까</td>\n",
       "      <td>이미자</td>\n",
       "      <td>https://cdnimg.melon.co.kr/cm/album/images/003...</td>\n",
       "      <td>1절  임이라 부르리까 당신이라고 부르리까  사랑을 하면서도 사랑을 참고사는  마음...</td>\n",
       "      <td>성인가요</td>\n",
       "    </tr>\n",
       "    <tr>\n",
       "      <th>3</th>\n",
       "      <td>3</td>\n",
       "      <td>1002782</td>\n",
       "      <td>동백아가씨</td>\n",
       "      <td>이미자</td>\n",
       "      <td>https://cdnimg.melon.co.kr/cm/album/images/003...</td>\n",
       "      <td>헤일 수 없이 수많은 밤을 내 가슴 도려내는 아픔에 겨워 얼마나 울었던가 동백아가...</td>\n",
       "      <td>성인가요</td>\n",
       "    </tr>\n",
       "    <tr>\n",
       "      <th>4</th>\n",
       "      <td>4</td>\n",
       "      <td>1003568</td>\n",
       "      <td>떠날때는 말없이</td>\n",
       "      <td>현미</td>\n",
       "      <td>https://cdnimg.melon.co.kr/cm/album/images/003...</td>\n",
       "      <td>그 날 밤 그 자리에 둘이서 만났을 때 똑같은 그 순간에 똑같은 마음이 달빛에 젖...</td>\n",
       "      <td>성인가요</td>\n",
       "    </tr>\n",
       "    <tr>\n",
       "      <th>...</th>\n",
       "      <td>...</td>\n",
       "      <td>...</td>\n",
       "      <td>...</td>\n",
       "      <td>...</td>\n",
       "      <td>...</td>\n",
       "      <td>...</td>\n",
       "      <td>...</td>\n",
       "    </tr>\n",
       "    <tr>\n",
       "      <th>907</th>\n",
       "      <td>907</td>\n",
       "      <td>32183386</td>\n",
       "      <td>Blueming</td>\n",
       "      <td>아이유</td>\n",
       "      <td>https://cdnimg.melon.co.kr/cm2/album/images/10...</td>\n",
       "      <td>‘뭐해?‘라는 두 글자에 ‘네가 보고 싶어’ 나의 속마음을 담아 우 이모티콘 하나...</td>\n",
       "      <td>록/메탈</td>\n",
       "    </tr>\n",
       "    <tr>\n",
       "      <th>908</th>\n",
       "      <td>908</td>\n",
       "      <td>32128104</td>\n",
       "      <td>인기 (Feat. 송가인, 챈슬러)</td>\n",
       "      <td>MC몽</td>\n",
       "      <td>https://cdnimg.melon.co.kr/cm2/album/images/10...</td>\n",
       "      <td>우선 캐릭터는 분명 해야 해요 X 같은 XX 철부지같이 굴면 Fail 해요 Nex...</td>\n",
       "      <td>랩/힙합</td>\n",
       "    </tr>\n",
       "    <tr>\n",
       "      <th>909</th>\n",
       "      <td>909</td>\n",
       "      <td>31955739</td>\n",
       "      <td>ICY</td>\n",
       "      <td>ITZY (있지)</td>\n",
       "      <td>https://cdnimg.melon.co.kr/cm/album/images/103...</td>\n",
       "      <td>Hey hey hey yass whoo  Beep beep  Hey hey hey...</td>\n",
       "      <td>댄스</td>\n",
       "    </tr>\n",
       "    <tr>\n",
       "      <th>910</th>\n",
       "      <td>910</td>\n",
       "      <td>31671295</td>\n",
       "      <td>눈 (Prod. 기리보이)</td>\n",
       "      <td>Lil tachi</td>\n",
       "      <td>https://cdnimg.melon.co.kr/cm/album/images/102...</td>\n",
       "      <td>멋이 다 흘러 흘러서 넘쳐 멀어 버렸어 배로 막 벌어 멋이 다 흘러 멋이 다 흘러...</td>\n",
       "      <td>랩/힙합</td>\n",
       "    </tr>\n",
       "    <tr>\n",
       "      <th>911</th>\n",
       "      <td>911</td>\n",
       "      <td>31655897</td>\n",
       "      <td>오늘 밤에</td>\n",
       "      <td>홍진영</td>\n",
       "      <td>https://cdnimg.melon.co.kr/cm/album/images/102...</td>\n",
       "      <td>오늘 밤에 아무도 모르게 너랑 둘이서 둘이서 사랑을 할거야 오늘 밤에 아무도 모르...</td>\n",
       "      <td>성인가요</td>\n",
       "    </tr>\n",
       "  </tbody>\n",
       "</table>\n",
       "<p>3984 rows × 7 columns</p>\n",
       "</div>"
      ],
      "text/plain": [
       "     Unnamed: 0        id                  name     singer  \\\n",
       "0             0   4083218             내일또 만납시다         금호동   \n",
       "1             1   1003023              눈물의 연평도         최숙자   \n",
       "2             2   1754987             님이라 부르리까         이미자   \n",
       "3             3   1002782                동백아가씨         이미자   \n",
       "4             4   1003568             떠날때는 말없이          현미   \n",
       "..          ...       ...                   ...        ...   \n",
       "907         907  32183386             Blueming         아이유   \n",
       "908         908  32128104  인기 (Feat. 송가인, 챈슬러)         MC몽   \n",
       "909         909  31955739                  ICY   ITZY (있지)   \n",
       "910         910  31671295       눈 (Prod. 기리보이)   Lil tachi   \n",
       "911         911  31655897                오늘 밤에         홍진영   \n",
       "\n",
       "                                                   img  \\\n",
       "0    https://cdnimg.melon.co.kr/cm/album/images/021...   \n",
       "1    https://cdnimg.melon.co.kr/cm/album/images/003...   \n",
       "2    https://cdnimg.melon.co.kr/cm/album/images/003...   \n",
       "3    https://cdnimg.melon.co.kr/cm/album/images/003...   \n",
       "4    https://cdnimg.melon.co.kr/cm/album/images/003...   \n",
       "..                                                 ...   \n",
       "907  https://cdnimg.melon.co.kr/cm2/album/images/10...   \n",
       "908  https://cdnimg.melon.co.kr/cm2/album/images/10...   \n",
       "909  https://cdnimg.melon.co.kr/cm/album/images/103...   \n",
       "910  https://cdnimg.melon.co.kr/cm/album/images/102...   \n",
       "911  https://cdnimg.melon.co.kr/cm/album/images/102...   \n",
       "\n",
       "                                                lyrics jenre  \n",
       "0     하루의 일을 끝내고 돌아가는 거리엔 사람의 물결 하늘엔 별이 하나 둘 반짝이면 가...  성인가요  \n",
       "1     조기를 담뿍잡아 기폭을 올리고 온다던 그배는 어이하여 아니오나 수평선 바라보며 그...  성인가요  \n",
       "2    1절  임이라 부르리까 당신이라고 부르리까  사랑을 하면서도 사랑을 참고사는  마음...  성인가요  \n",
       "3     헤일 수 없이 수많은 밤을 내 가슴 도려내는 아픔에 겨워 얼마나 울었던가 동백아가...  성인가요  \n",
       "4     그 날 밤 그 자리에 둘이서 만났을 때 똑같은 그 순간에 똑같은 마음이 달빛에 젖...  성인가요  \n",
       "..                                                 ...   ...  \n",
       "907   ‘뭐해?‘라는 두 글자에 ‘네가 보고 싶어’ 나의 속마음을 담아 우 이모티콘 하나...  록/메탈  \n",
       "908   우선 캐릭터는 분명 해야 해요 X 같은 XX 철부지같이 굴면 Fail 해요 Nex...  랩/힙합  \n",
       "909   Hey hey hey yass whoo  Beep beep  Hey hey hey...    댄스  \n",
       "910   멋이 다 흘러 흘러서 넘쳐 멀어 버렸어 배로 막 벌어 멋이 다 흘러 멋이 다 흘러...  랩/힙합  \n",
       "911   오늘 밤에 아무도 모르게 너랑 둘이서 둘이서 사랑을 할거야 오늘 밤에 아무도 모르...  성인가요  \n",
       "\n",
       "[3984 rows x 7 columns]"
      ]
     },
     "execution_count": 106,
     "metadata": {},
     "output_type": "execute_result"
    }
   ],
   "source": [
    "frames = [df1,df2,df3,df4,df5,df6]\n",
    "result = pd.concat(frames)\n",
    "result"
   ]
  },
  {
   "cell_type": "code",
   "execution_count": 107,
   "metadata": {
    "ExecuteTime": {
     "end_time": "2021-03-19T07:51:10.869838Z",
     "start_time": "2021-03-19T07:51:10.860344Z"
    }
   },
   "outputs": [
    {
     "data": {
      "text/plain": [
       "162"
      ]
     },
     "execution_count": 107,
     "metadata": {},
     "output_type": "execute_result"
    }
   ],
   "source": [
    "df_None = result[result['lyrics']=='None'].index\n",
    "len(df_None)"
   ]
  },
  {
   "cell_type": "code",
   "execution_count": 108,
   "metadata": {
    "ExecuteTime": {
     "end_time": "2021-03-19T07:51:12.354824Z",
     "start_time": "2021-03-19T07:51:12.346179Z"
    }
   },
   "outputs": [],
   "source": [
    "df = result.drop(df_None)"
   ]
  },
  {
   "cell_type": "code",
   "execution_count": 109,
   "metadata": {
    "ExecuteTime": {
     "end_time": "2021-03-19T07:51:13.220674Z",
     "start_time": "2021-03-19T07:51:13.208187Z"
    }
   },
   "outputs": [
    {
     "data": {
      "text/html": [
       "<div>\n",
       "<style scoped>\n",
       "    .dataframe tbody tr th:only-of-type {\n",
       "        vertical-align: middle;\n",
       "    }\n",
       "\n",
       "    .dataframe tbody tr th {\n",
       "        vertical-align: top;\n",
       "    }\n",
       "\n",
       "    .dataframe thead th {\n",
       "        text-align: right;\n",
       "    }\n",
       "</style>\n",
       "<table border=\"1\" class=\"dataframe\">\n",
       "  <thead>\n",
       "    <tr style=\"text-align: right;\">\n",
       "      <th></th>\n",
       "      <th>Unnamed: 0</th>\n",
       "      <th>id</th>\n",
       "      <th>name</th>\n",
       "      <th>singer</th>\n",
       "      <th>img</th>\n",
       "      <th>lyrics</th>\n",
       "      <th>jenre</th>\n",
       "    </tr>\n",
       "  </thead>\n",
       "  <tbody>\n",
       "  </tbody>\n",
       "</table>\n",
       "</div>"
      ],
      "text/plain": [
       "Empty DataFrame\n",
       "Columns: [Unnamed: 0, id, name, singer, img, lyrics, jenre]\n",
       "Index: []"
      ]
     },
     "execution_count": 109,
     "metadata": {},
     "output_type": "execute_result"
    }
   ],
   "source": [
    "df[df['lyrics']=='None']"
   ]
  },
  {
   "cell_type": "code",
   "execution_count": 110,
   "metadata": {},
   "outputs": [],
   "source": [
    "df = df.reset_index(drop=True)"
   ]
  },
  {
   "cell_type": "code",
   "execution_count": 111,
   "metadata": {
    "ExecuteTime": {
     "end_time": "2021-03-19T07:51:22.658780Z",
     "start_time": "2021-03-19T07:51:22.654075Z"
    }
   },
   "outputs": [
    {
     "name": "stdout",
     "output_type": "stream",
     "text": [
      "전체 음악의 수 : 3231\n"
     ]
    }
   ],
   "source": [
    "print('전체 음악의 수 :',len(df))"
   ]
  },
  {
   "cell_type": "code",
   "execution_count": 112,
   "metadata": {
    "ExecuteTime": {
     "end_time": "2021-03-19T07:51:23.594876Z",
     "start_time": "2021-03-19T07:51:23.578757Z"
    },
    "scrolled": true
   },
   "outputs": [
    {
     "data": {
      "text/plain": [
       "0     하루의 일을 끝내고 돌아가는 거리엔 사람의 물결 하늘엔 별이 하나 둘 반짝이면 가...\n",
       "1     조기를 담뿍잡아 기폭을 올리고 온다던 그배는 어이하여 아니오나 수평선 바라보며 그...\n",
       "2    1절  임이라 부르리까 당신이라고 부르리까  사랑을 하면서도 사랑을 참고사는  마음...\n",
       "3     헤일 수 없이 수많은 밤을 내 가슴 도려내는 아픔에 겨워 얼마나 울었던가 동백아가...\n",
       "4     그 날 밤 그 자리에 둘이서 만났을 때 똑같은 그 순간에 똑같은 마음이 달빛에 젖...\n",
       "Name: lyrics, dtype: object"
      ]
     },
     "execution_count": 112,
     "metadata": {},
     "output_type": "execute_result"
    }
   ],
   "source": [
    "df['lyrics'].head(5)"
   ]
  },
  {
   "cell_type": "code",
   "execution_count": 113,
   "metadata": {
    "ExecuteTime": {
     "end_time": "2021-03-19T07:51:25.678748Z",
     "start_time": "2021-03-19T07:51:25.496646Z"
    }
   },
   "outputs": [],
   "source": [
    "corpus = []\n",
    "for words in df['lyrics']:\n",
    "    corpus.append(words.split())"
   ]
  },
  {
   "cell_type": "markdown",
   "metadata": {},
   "source": [
    "## 사전 훈련된 워드 임베딩 사용 "
   ]
  },
  {
   "cell_type": "code",
   "execution_count": 114,
   "metadata": {
    "ExecuteTime": {
     "end_time": "2021-03-19T07:51:29.322340Z",
     "start_time": "2021-03-19T07:51:28.354653Z"
    }
   },
   "outputs": [],
   "source": [
    "import gensim\n",
    "ko_model = gensim.models.Word2Vec.load('./ko/ko.bin')"
   ]
  },
  {
   "cell_type": "code",
   "execution_count": 115,
   "metadata": {
    "ExecuteTime": {
     "end_time": "2021-03-19T07:47:22.298007Z",
     "start_time": "2021-03-19T07:47:22.255058Z"
    }
   },
   "outputs": [],
   "source": [
    "# 테스트 해보기\n",
    "a = ko_model.wv.most_similar('사랑')"
   ]
  },
  {
   "cell_type": "code",
   "execution_count": 116,
   "metadata": {
    "ExecuteTime": {
     "end_time": "2021-03-19T07:36:12.599075Z",
     "start_time": "2021-03-19T07:36:12.591089Z"
    }
   },
   "outputs": [
    {
     "data": {
      "text/plain": [
       "[('슬픔', 0.7216662764549255),\n",
       " ('행복', 0.6759077310562134),\n",
       " ('절망', 0.6468985080718994),\n",
       " ('기쁨', 0.6458414196968079),\n",
       " ('이별', 0.6334798336029053),\n",
       " ('추억', 0.6320937275886536),\n",
       " ('인생', 0.6216273307800293),\n",
       " ('애정', 0.6206069588661194),\n",
       " ('연인', 0.6186063289642334),\n",
       " ('유혹', 0.5965287685394287)]"
      ]
     },
     "execution_count": 116,
     "metadata": {},
     "output_type": "execute_result"
    }
   ],
   "source": [
    "a"
   ]
  },
  {
   "cell_type": "code",
   "execution_count": 117,
   "metadata": {
    "ExecuteTime": {
     "end_time": "2021-03-19T08:29:16.917436Z",
     "start_time": "2021-03-19T08:29:12.518957Z"
    }
   },
   "outputs": [
    {
     "data": {
      "text/plain": [
       "(2176552, 7603770)"
      ]
     },
     "execution_count": 117,
     "metadata": {},
     "output_type": "execute_result"
    }
   ],
   "source": [
    "# ko_model = Word2Vec(size = 300, window=5, min_count = 2, workers = -1)\n",
    "# ko_model.build_vocab(corpus)\n",
    "# ko_model.intersect_word2vec_format('ko.zip', lockf=1.0, binary=True, encoding='utf-16')\n",
    "ko_model.train(corpus, total_examples = ko_model.corpus_count, epochs = 15)"
   ]
  },
  {
   "cell_type": "code",
   "execution_count": 118,
   "metadata": {
    "ExecuteTime": {
     "end_time": "2021-03-19T07:51:41.058443Z",
     "start_time": "2021-03-19T07:51:41.049646Z"
    }
   },
   "outputs": [],
   "source": [
    "def vectors(document_list):\n",
    "    document_embedding_list = []\n",
    "\n",
    "    # 각 문서에 대해서\n",
    "    for line in document_list:\n",
    "        doc2vec = None\n",
    "        count = 0\n",
    "        for word in line.split():\n",
    "            if word in ko_model.wv.vocab:\n",
    "                count += 1\n",
    "                # 해당 문서에 있는 모든 단어들의 벡터값을 더한다.\n",
    "                if doc2vec is None:\n",
    "                    doc2vec = ko_model[word]\n",
    "                else:\n",
    "                    doc2vec = doc2vec + ko_model[word]\n",
    "\n",
    "        if doc2vec is not None:\n",
    "            # 단어 벡터를 모두 더한 벡터의 값을 문서 길이로 나눠준다.\n",
    "            doc2vec = doc2vec / count\n",
    "            document_embedding_list.append(doc2vec)\n",
    "\n",
    "    # 각 문서에 대한 문서 벡터 리스트를 리턴\n",
    "    return document_embedding_list"
   ]
  },
  {
   "cell_type": "code",
   "execution_count": 119,
   "metadata": {
    "ExecuteTime": {
     "end_time": "2021-03-19T07:51:46.081071Z",
     "start_time": "2021-03-19T07:51:43.603785Z"
    },
    "scrolled": false
   },
   "outputs": [
    {
     "name": "stderr",
     "output_type": "stream",
     "text": [
      "<ipython-input-118-bc81a12513a2>:13: DeprecationWarning: Call to deprecated `__getitem__` (Method will be removed in 4.0.0, use self.wv.__getitem__() instead).\n",
      "  doc2vec = ko_model[word]\n",
      "<ipython-input-118-bc81a12513a2>:15: DeprecationWarning: Call to deprecated `__getitem__` (Method will be removed in 4.0.0, use self.wv.__getitem__() instead).\n",
      "  doc2vec = doc2vec + ko_model[word]\n"
     ]
    },
    {
     "name": "stdout",
     "output_type": "stream",
     "text": [
      "문서 벡터의 수 : 3218\n"
     ]
    }
   ],
   "source": [
    "document_embedding_list = vectors(df['lyrics'])\n",
    "print('문서 벡터의 수 :',len(document_embedding_list))"
   ]
  },
  {
   "cell_type": "code",
   "execution_count": 120,
   "metadata": {
    "ExecuteTime": {
     "end_time": "2021-03-19T07:51:48.152053Z",
     "start_time": "2021-03-19T07:51:48.027260Z"
    }
   },
   "outputs": [
    {
     "name": "stdout",
     "output_type": "stream",
     "text": [
      "코사인 유사도 매트릭스의 크기 : (3218, 3218)\n"
     ]
    }
   ],
   "source": [
    "cosine_similarities = cosine_similarity(document_embedding_list, document_embedding_list)\n",
    "print('코사인 유사도 매트릭스의 크기 :',cosine_similarities.shape)"
   ]
  },
  {
   "cell_type": "markdown",
   "metadata": {},
   "source": [
    "### 노래 제목 공백 제거된 컬럼 추가 작업"
   ]
  },
  {
   "cell_type": "code",
   "execution_count": 121,
   "metadata": {},
   "outputs": [
    {
     "name": "stdout",
     "output_type": "stream",
     "text": [
      "      Unnamed: 0        id                  name     singer  \\\n",
      "0              0   4083218             내일또 만납시다         금호동   \n",
      "1              1   1003023              눈물의 연평도         최숙자   \n",
      "2              2   1754987             님이라 부르리까         이미자   \n",
      "3              3   1002782                동백아가씨         이미자   \n",
      "4              4   1003568             떠날때는 말없이          현미   \n",
      "...          ...       ...                   ...        ...   \n",
      "3226         907  32183386             Blueming         아이유   \n",
      "3227         908  32128104  인기 (Feat. 송가인, 챈슬러)         MC몽   \n",
      "3228         909  31955739                  ICY   ITZY (있지)   \n",
      "3229         910  31671295       눈 (Prod. 기리보이)   Lil tachi   \n",
      "3230         911  31655897                오늘 밤에         홍진영   \n",
      "\n",
      "                                                    img  \\\n",
      "0     https://cdnimg.melon.co.kr/cm/album/images/021...   \n",
      "1     https://cdnimg.melon.co.kr/cm/album/images/003...   \n",
      "2     https://cdnimg.melon.co.kr/cm/album/images/003...   \n",
      "3     https://cdnimg.melon.co.kr/cm/album/images/003...   \n",
      "4     https://cdnimg.melon.co.kr/cm/album/images/003...   \n",
      "...                                                 ...   \n",
      "3226  https://cdnimg.melon.co.kr/cm2/album/images/10...   \n",
      "3227  https://cdnimg.melon.co.kr/cm2/album/images/10...   \n",
      "3228  https://cdnimg.melon.co.kr/cm/album/images/103...   \n",
      "3229  https://cdnimg.melon.co.kr/cm/album/images/102...   \n",
      "3230  https://cdnimg.melon.co.kr/cm/album/images/102...   \n",
      "\n",
      "                                                 lyrics jenre  \n",
      "0      하루의 일을 끝내고 돌아가는 거리엔 사람의 물결 하늘엔 별이 하나 둘 반짝이면 가...  성인가요  \n",
      "1      조기를 담뿍잡아 기폭을 올리고 온다던 그배는 어이하여 아니오나 수평선 바라보며 그...  성인가요  \n",
      "2     1절  임이라 부르리까 당신이라고 부르리까  사랑을 하면서도 사랑을 참고사는  마음...  성인가요  \n",
      "3      헤일 수 없이 수많은 밤을 내 가슴 도려내는 아픔에 겨워 얼마나 울었던가 동백아가...  성인가요  \n",
      "4      그 날 밤 그 자리에 둘이서 만났을 때 똑같은 그 순간에 똑같은 마음이 달빛에 젖...  성인가요  \n",
      "...                                                 ...   ...  \n",
      "3226   ‘뭐해?‘라는 두 글자에 ‘네가 보고 싶어’ 나의 속마음을 담아 우 이모티콘 하나...  록/메탈  \n",
      "3227   우선 캐릭터는 분명 해야 해요 X 같은 XX 철부지같이 굴면 Fail 해요 Nex...  랩/힙합  \n",
      "3228   Hey hey hey yass whoo  Beep beep  Hey hey hey...    댄스  \n",
      "3229   멋이 다 흘러 흘러서 넘쳐 멀어 버렸어 배로 막 벌어 멋이 다 흘러 멋이 다 흘러...  랩/힙합  \n",
      "3230   오늘 밤에 아무도 모르게 너랑 둘이서 둘이서 사랑을 할거야 오늘 밤에 아무도 모르...  성인가요  \n",
      "\n",
      "[3231 rows x 7 columns]\n"
     ]
    }
   ],
   "source": [
    "print(df)"
   ]
  },
  {
   "cell_type": "code",
   "execution_count": 53,
   "metadata": {},
   "outputs": [
    {
     "data": {
      "text/plain": [
       "0     내일또 만납시다 \n",
       "1      눈물의 연평도 \n",
       "2     님이라 부르리까 \n",
       "3        동백아가씨 \n",
       "4     떠날때는 말없이 \n",
       "5      마도로스 부기 \n",
       "6       맨발의 청춘 \n",
       "7    소쩍새 우는 마을 \n",
       "8    아메리칸 마도로스 \n",
       "9        아빠 안녕 \n",
       "Name: rename, dtype: object"
      ]
     },
     "execution_count": 53,
     "metadata": {},
     "output_type": "execute_result"
    }
   ],
   "source": [
    "df['rename'] = df['name']\n",
    "    \n",
    "df['rename'].head(10)"
   ]
  },
  {
   "cell_type": "markdown",
   "metadata": {},
   "source": [
    "## 추천 함수 생성 작업"
   ]
  },
  {
   "cell_type": "code",
   "execution_count": 133,
   "metadata": {},
   "outputs": [
    {
     "name": "stdout",
     "output_type": "stream",
     "text": [
      "2328\n"
     ]
    }
   ],
   "source": [
    "indices = pd.Series(df.index, index = df['name']).drop_duplicates()\n",
    "name = '붉은 노을 '\n",
    "print(indices['붉은 노을 '])"
   ]
  },
  {
   "cell_type": "code",
   "execution_count": 87,
   "metadata": {
    "ExecuteTime": {
     "end_time": "2021-03-19T08:16:45.904998Z",
     "start_time": "2021-03-19T08:16:45.891665Z"
    }
   },
   "outputs": [],
   "source": [
    "def recommendations(rename):\n",
    "    music = df[['rename', 'img']]\n",
    "\n",
    "    # 노래의 제목을 입력하면 해당 제목의 인덱스를 리턴받아 idx에 저장.\n",
    "    indices = pd.Series(df.index, index = df['rename']).drop_duplicates()    \n",
    "    idx = indices[rename]\n",
    "\n",
    "    # 입력된 노래 가사(document embedding)가 유사한 노래 5개 선정.\n",
    "    sim_scores = list(enumerate(cosine_similarities[idx]))\n",
    "    sim_scores = sorted(sim_scores, key = lambda x: x[1], reverse = True)\n",
    "    sim_scores = sim_scores[1:31]\n",
    "\n",
    "    # 가장 유사한 음악 5개의 인덱스\n",
    "    music_indices = [i[0] for i in sim_scores]\n",
    "    print(music_indices)\n",
    "    \n",
    "    # 전체 데이터프레임에서 해당 인덱스의 행만 추출. 5개의 행을 가진다.\n",
    "    recommend = music.iloc[music_indices].reset_index(drop=True)\n",
    "\n",
    "    fig = plt.figure(figsize=(20, 30))\n",
    "\n",
    "    # 데이터프레임으로부터 순차적으로 이미지를 출력\n",
    "    for index, row in recommend.iterrows():\n",
    "        response = requests.get(row['img'])\n",
    "        img = Image.open(BytesIO(response.content))\n",
    "        fig.add_subplot(5, 6, index + 1)\n",
    "        plt.imshow(img)\n",
    "        path= 'C:/Users/user/쥬피터 작업 파일/semi-project/final_since_info_v2/NanumBarunGothic.ttf'\n",
    "        fontprop = fm.FontProperties(fname=path, size=10)\n",
    "        plt.title(row['rename'], fontproperties=fontprop)"
   ]
  },
  {
   "cell_type": "code",
   "execution_count": 88,
   "metadata": {
    "ExecuteTime": {
     "end_time": "2021-03-19T08:16:34.451522Z",
     "start_time": "2021-03-19T08:16:26.115981Z"
    }
   },
   "outputs": [
    {
     "ename": "IndexError",
     "evalue": "only integers, slices (`:`), ellipsis (`...`), numpy.newaxis (`None`) and integer or boolean arrays are valid indices",
     "output_type": "error",
     "traceback": [
      "\u001b[0;31m---------------------------------------------------------------------------\u001b[0m",
      "\u001b[0;31mIndexError\u001b[0m                                Traceback (most recent call last)",
      "\u001b[0;32m<ipython-input-88-7bbdae14aecf>\u001b[0m in \u001b[0;36m<module>\u001b[0;34m\u001b[0m\n\u001b[0;32m----> 1\u001b[0;31m \u001b[0mrecommendations\u001b[0m\u001b[0;34m(\u001b[0m\u001b[0;34m'피카부 (Peek-A-Boo)'\u001b[0m\u001b[0;34m)\u001b[0m\u001b[0;34m\u001b[0m\u001b[0;34m\u001b[0m\u001b[0m\n\u001b[0m",
      "\u001b[0;32m<ipython-input-87-244e45440535>\u001b[0m in \u001b[0;36mrecommendations\u001b[0;34m(rename)\u001b[0m\n\u001b[1;32m      8\u001b[0m \u001b[0;34m\u001b[0m\u001b[0m\n\u001b[1;32m      9\u001b[0m     \u001b[0;31m# 입력된 노래 가사(document embedding)가 유사한 노래 5개 선정.\u001b[0m\u001b[0;34m\u001b[0m\u001b[0;34m\u001b[0m\u001b[0;34m\u001b[0m\u001b[0m\n\u001b[0;32m---> 10\u001b[0;31m     \u001b[0msim_scores\u001b[0m \u001b[0;34m=\u001b[0m \u001b[0mlist\u001b[0m\u001b[0;34m(\u001b[0m\u001b[0menumerate\u001b[0m\u001b[0;34m(\u001b[0m\u001b[0mcosine_similarities\u001b[0m\u001b[0;34m[\u001b[0m\u001b[0midx\u001b[0m\u001b[0;34m]\u001b[0m\u001b[0;34m)\u001b[0m\u001b[0;34m)\u001b[0m\u001b[0;34m\u001b[0m\u001b[0;34m\u001b[0m\u001b[0m\n\u001b[0m\u001b[1;32m     11\u001b[0m     \u001b[0msim_scores\u001b[0m \u001b[0;34m=\u001b[0m \u001b[0msorted\u001b[0m\u001b[0;34m(\u001b[0m\u001b[0msim_scores\u001b[0m\u001b[0;34m,\u001b[0m \u001b[0mkey\u001b[0m \u001b[0;34m=\u001b[0m \u001b[0;32mlambda\u001b[0m \u001b[0mx\u001b[0m\u001b[0;34m:\u001b[0m \u001b[0mx\u001b[0m\u001b[0;34m[\u001b[0m\u001b[0;36m1\u001b[0m\u001b[0;34m]\u001b[0m\u001b[0;34m,\u001b[0m \u001b[0mreverse\u001b[0m \u001b[0;34m=\u001b[0m \u001b[0;32mTrue\u001b[0m\u001b[0;34m)\u001b[0m\u001b[0;34m\u001b[0m\u001b[0;34m\u001b[0m\u001b[0m\n\u001b[1;32m     12\u001b[0m     \u001b[0msim_scores\u001b[0m \u001b[0;34m=\u001b[0m \u001b[0msim_scores\u001b[0m\u001b[0;34m[\u001b[0m\u001b[0;36m1\u001b[0m\u001b[0;34m:\u001b[0m\u001b[0;36m31\u001b[0m\u001b[0;34m]\u001b[0m\u001b[0;34m\u001b[0m\u001b[0;34m\u001b[0m\u001b[0m\n",
      "\u001b[0;31mIndexError\u001b[0m: only integers, slices (`:`), ellipsis (`...`), numpy.newaxis (`None`) and integer or boolean arrays are valid indices"
     ]
    }
   ],
   "source": [
    "recommendations('피카부 (Peek-A-Boo)')"
   ]
  },
  {
   "cell_type": "markdown",
   "metadata": {},
   "source": [
    "##  데이터 저장"
   ]
  },
  {
   "cell_type": "code",
   "execution_count": 146,
   "metadata": {
    "ExecuteTime": {
     "end_time": "2021-03-19T08:20:03.618782Z",
     "start_time": "2021-03-19T08:20:03.418515Z"
    }
   },
   "outputs": [],
   "source": [
    "df.to_csv('music.csv', index=False, encoding='utf-8')"
   ]
  }
 ],
 "metadata": {
  "kernelspec": {
   "display_name": "Python 3",
   "language": "python",
   "name": "python3"
  },
  "language_info": {
   "codemirror_mode": {
    "name": "ipython",
    "version": 3
   },
   "file_extension": ".py",
   "mimetype": "text/x-python",
   "name": "python",
   "nbconvert_exporter": "python",
   "pygments_lexer": "ipython3",
   "version": "3.8.8"
  }
 },
 "nbformat": 4,
 "nbformat_minor": 4
}
