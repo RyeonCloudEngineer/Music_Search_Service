{
 "cells": [
  {
   "cell_type": "code",
   "execution_count": 4,
   "metadata": {
    "ExecuteTime": {
     "end_time": "2021-03-19T08:11:03.180794Z",
     "start_time": "2021-03-19T08:11:03.064511Z"
    }
   },
   "outputs": [],
   "source": [
    "import urllib.request\n",
    "import pandas as pd\n",
    "import numpy as np\n",
    "import matplotlib.pyplot as plt\n",
    "import requests\n",
    "import re\n",
    "from PIL import Image\n",
    "from io import BytesIO\n",
    "from nltk.tokenize import RegexpTokenizer\n",
    "import nltk\n",
    "from gensim.models import Word2Vec\n",
    "from gensim.models import KeyedVectors\n",
    "from nltk.corpus import stopwords\n",
    "from sklearn.metrics.pairwise import cosine_similarity\n",
    "from konlpy.tag import Okt\n",
    "import matplotlib.font_manager as fm\n",
    "import cv2"
   ]
  },
  {
   "cell_type": "code",
   "execution_count": 5,
   "metadata": {},
   "outputs": [],
   "source": [
    "import urllib.request\n",
    "import pandas as pd\n",
    "import numpy as np\n",
    "from gensim.models import Word2Vec\n",
    "from sklearn.metrics.pairwise import cosine_similarity\n",
    "import gensim"
   ]
  },
  {
   "cell_type": "code",
   "execution_count": 6,
   "metadata": {},
   "outputs": [
    {
     "data": {
      "text/plain": [
       "'/Users/shift/Desktop/LABs/NLP/semi-pj_lyrics/data/title_analytics'"
      ]
     },
     "execution_count": 6,
     "metadata": {},
     "output_type": "execute_result"
    }
   ],
   "source": [
    "import os\n",
    "os.getcwd()"
   ]
  },
  {
   "cell_type": "code",
   "execution_count": 7,
   "metadata": {
    "ExecuteTime": {
     "end_time": "2021-03-19T07:49:45.721145Z",
     "start_time": "2021-03-19T07:49:45.470496Z"
    }
   },
   "outputs": [],
   "source": [
    "path = '/Users/shift/Desktop/LABs/NLP/semi-pj_lyrics/data/year_music_info/'\n",
    "df1 = pd.read_csv(path + \"final_1960s_info_v3.csv\", encoding='utf-8', index_col = 0)\n",
    "df2 = pd.read_csv(path + \"final_1970s_info_v2.csv\", encoding='utf-8', index_col = 0)\n",
    "df3 = pd.read_csv(path + \"final_1980s_info_v2.csv\", encoding='utf-8', index_col = 0)\n",
    "df4 = pd.read_csv(path + \"final_1990s_info_v2.csv\", encoding='utf-8', index_col = 0)\n",
    "df5 = pd.read_csv(path + \"final_2000s_info_v2.csv\", encoding='utf-8', index_col = 0)\n",
    "df6 = pd.read_csv(path + \"final_2010s_info_v2.csv\", encoding='utf-8', index_col = 0)"
   ]
  },
  {
   "cell_type": "markdown",
   "metadata": {},
   "source": [
    "## 데이터프레임 concat() 후 가사에 None 값 제거 "
   ]
  },
  {
   "cell_type": "code",
   "execution_count": 8,
   "metadata": {
    "ExecuteTime": {
     "end_time": "2021-03-19T07:51:06.122357Z",
     "start_time": "2021-03-19T07:51:06.088757Z"
    },
    "scrolled": true
   },
   "outputs": [
    {
     "data": {
      "text/html": [
       "<div>\n",
       "<style scoped>\n",
       "    .dataframe tbody tr th:only-of-type {\n",
       "        vertical-align: middle;\n",
       "    }\n",
       "\n",
       "    .dataframe tbody tr th {\n",
       "        vertical-align: top;\n",
       "    }\n",
       "\n",
       "    .dataframe thead th {\n",
       "        text-align: right;\n",
       "    }\n",
       "</style>\n",
       "<table border=\"1\" class=\"dataframe\">\n",
       "  <thead>\n",
       "    <tr style=\"text-align: right;\">\n",
       "      <th></th>\n",
       "      <th>id</th>\n",
       "      <th>name</th>\n",
       "      <th>singer</th>\n",
       "      <th>img</th>\n",
       "      <th>lyrics</th>\n",
       "      <th>jenre</th>\n",
       "    </tr>\n",
       "  </thead>\n",
       "  <tbody>\n",
       "    <tr>\n",
       "      <th>0</th>\n",
       "      <td>4083218</td>\n",
       "      <td>내일또 만납시다</td>\n",
       "      <td>금호동</td>\n",
       "      <td>https://cdnimg.melon.co.kr/cm/album/images/021...</td>\n",
       "      <td>하루의 일을 끝내고 돌아가는 거리엔 사람의 물결 하늘엔 별이 하나 둘 반짝이면 가...</td>\n",
       "      <td>성인가요</td>\n",
       "    </tr>\n",
       "    <tr>\n",
       "      <th>1</th>\n",
       "      <td>1003023</td>\n",
       "      <td>눈물의 연평도</td>\n",
       "      <td>최숙자</td>\n",
       "      <td>https://cdnimg.melon.co.kr/cm/album/images/003...</td>\n",
       "      <td>조기를 담뿍잡아 기폭을 올리고 온다던 그배는 어이하여 아니오나 수평선 바라보며 그...</td>\n",
       "      <td>성인가요</td>\n",
       "    </tr>\n",
       "    <tr>\n",
       "      <th>2</th>\n",
       "      <td>1754987</td>\n",
       "      <td>님이라 부르리까</td>\n",
       "      <td>이미자</td>\n",
       "      <td>https://cdnimg.melon.co.kr/cm/album/images/003...</td>\n",
       "      <td>1절  임이라 부르리까 당신이라고 부르리까  사랑을 하면서도 사랑을 참고사는  마음...</td>\n",
       "      <td>성인가요</td>\n",
       "    </tr>\n",
       "    <tr>\n",
       "      <th>3</th>\n",
       "      <td>1002782</td>\n",
       "      <td>동백아가씨</td>\n",
       "      <td>이미자</td>\n",
       "      <td>https://cdnimg.melon.co.kr/cm/album/images/003...</td>\n",
       "      <td>헤일 수 없이 수많은 밤을 내 가슴 도려내는 아픔에 겨워 얼마나 울었던가 동백아가...</td>\n",
       "      <td>성인가요</td>\n",
       "    </tr>\n",
       "    <tr>\n",
       "      <th>4</th>\n",
       "      <td>1003568</td>\n",
       "      <td>떠날때는 말없이</td>\n",
       "      <td>현미</td>\n",
       "      <td>https://cdnimg.melon.co.kr/cm/album/images/003...</td>\n",
       "      <td>그 날 밤 그 자리에 둘이서 만났을 때 똑같은 그 순간에 똑같은 마음이 달빛에 젖...</td>\n",
       "      <td>성인가요</td>\n",
       "    </tr>\n",
       "    <tr>\n",
       "      <th>...</th>\n",
       "      <td>...</td>\n",
       "      <td>...</td>\n",
       "      <td>...</td>\n",
       "      <td>...</td>\n",
       "      <td>...</td>\n",
       "      <td>...</td>\n",
       "    </tr>\n",
       "    <tr>\n",
       "      <th>907</th>\n",
       "      <td>32183386</td>\n",
       "      <td>Blueming</td>\n",
       "      <td>아이유</td>\n",
       "      <td>https://cdnimg.melon.co.kr/cm/album/images/103...</td>\n",
       "      <td>‘뭐해?‘라는 두 글자에 ‘네가 보고 싶어’ 나의 속마음을 담아 우 이모티콘 하나...</td>\n",
       "      <td>록/메탈</td>\n",
       "    </tr>\n",
       "    <tr>\n",
       "      <th>908</th>\n",
       "      <td>32128104</td>\n",
       "      <td>인기 (Feat. 송가인, 챈슬러)</td>\n",
       "      <td>MC몽</td>\n",
       "      <td>https://cdnimg.melon.co.kr/cm/album/images/103...</td>\n",
       "      <td>우선 캐릭터는 분명 해야 해요 X 같은 XX 철부지같이 굴면 Fail 해요 Nex...</td>\n",
       "      <td>랩/힙합</td>\n",
       "    </tr>\n",
       "    <tr>\n",
       "      <th>909</th>\n",
       "      <td>31955739</td>\n",
       "      <td>ICY</td>\n",
       "      <td>ITZY (있지)</td>\n",
       "      <td>https://cdnimg.melon.co.kr/cm/album/images/103...</td>\n",
       "      <td>Hey hey hey yass whoo  Beep beep  Hey hey hey...</td>\n",
       "      <td>댄스</td>\n",
       "    </tr>\n",
       "    <tr>\n",
       "      <th>910</th>\n",
       "      <td>31671295</td>\n",
       "      <td>눈 (Prod. 기리보이)</td>\n",
       "      <td>Lil tachi</td>\n",
       "      <td>https://cdnimg.melon.co.kr/cm/album/images/102...</td>\n",
       "      <td>멋이 다 흘러 흘러서 넘쳐 멀어 버렸어 배로 막 벌어 멋이 다 흘러 멋이 다 흘러...</td>\n",
       "      <td>랩/힙합</td>\n",
       "    </tr>\n",
       "    <tr>\n",
       "      <th>911</th>\n",
       "      <td>31655897</td>\n",
       "      <td>오늘 밤에</td>\n",
       "      <td>홍진영</td>\n",
       "      <td>https://cdnimg.melon.co.kr/cm/album/images/102...</td>\n",
       "      <td>오늘 밤에 아무도 모르게 너랑 둘이서 둘이서 사랑을 할거야 오늘 밤에 아무도 모르...</td>\n",
       "      <td>성인가요</td>\n",
       "    </tr>\n",
       "  </tbody>\n",
       "</table>\n",
       "<p>3984 rows × 6 columns</p>\n",
       "</div>"
      ],
      "text/plain": [
       "           id                  name     singer  \\\n",
       "0     4083218             내일또 만납시다         금호동   \n",
       "1     1003023              눈물의 연평도         최숙자   \n",
       "2     1754987             님이라 부르리까         이미자   \n",
       "3     1002782                동백아가씨         이미자   \n",
       "4     1003568             떠날때는 말없이          현미   \n",
       "..        ...                   ...        ...   \n",
       "907  32183386             Blueming         아이유   \n",
       "908  32128104  인기 (Feat. 송가인, 챈슬러)         MC몽   \n",
       "909  31955739                  ICY   ITZY (있지)   \n",
       "910  31671295       눈 (Prod. 기리보이)   Lil tachi   \n",
       "911  31655897                오늘 밤에         홍진영   \n",
       "\n",
       "                                                   img  \\\n",
       "0    https://cdnimg.melon.co.kr/cm/album/images/021...   \n",
       "1    https://cdnimg.melon.co.kr/cm/album/images/003...   \n",
       "2    https://cdnimg.melon.co.kr/cm/album/images/003...   \n",
       "3    https://cdnimg.melon.co.kr/cm/album/images/003...   \n",
       "4    https://cdnimg.melon.co.kr/cm/album/images/003...   \n",
       "..                                                 ...   \n",
       "907  https://cdnimg.melon.co.kr/cm/album/images/103...   \n",
       "908  https://cdnimg.melon.co.kr/cm/album/images/103...   \n",
       "909  https://cdnimg.melon.co.kr/cm/album/images/103...   \n",
       "910  https://cdnimg.melon.co.kr/cm/album/images/102...   \n",
       "911  https://cdnimg.melon.co.kr/cm/album/images/102...   \n",
       "\n",
       "                                                lyrics jenre  \n",
       "0     하루의 일을 끝내고 돌아가는 거리엔 사람의 물결 하늘엔 별이 하나 둘 반짝이면 가...  성인가요  \n",
       "1     조기를 담뿍잡아 기폭을 올리고 온다던 그배는 어이하여 아니오나 수평선 바라보며 그...  성인가요  \n",
       "2    1절  임이라 부르리까 당신이라고 부르리까  사랑을 하면서도 사랑을 참고사는  마음...  성인가요  \n",
       "3     헤일 수 없이 수많은 밤을 내 가슴 도려내는 아픔에 겨워 얼마나 울었던가 동백아가...  성인가요  \n",
       "4     그 날 밤 그 자리에 둘이서 만났을 때 똑같은 그 순간에 똑같은 마음이 달빛에 젖...  성인가요  \n",
       "..                                                 ...   ...  \n",
       "907   ‘뭐해?‘라는 두 글자에 ‘네가 보고 싶어’ 나의 속마음을 담아 우 이모티콘 하나...  록/메탈  \n",
       "908   우선 캐릭터는 분명 해야 해요 X 같은 XX 철부지같이 굴면 Fail 해요 Nex...  랩/힙합  \n",
       "909   Hey hey hey yass whoo  Beep beep  Hey hey hey...    댄스  \n",
       "910   멋이 다 흘러 흘러서 넘쳐 멀어 버렸어 배로 막 벌어 멋이 다 흘러 멋이 다 흘러...  랩/힙합  \n",
       "911   오늘 밤에 아무도 모르게 너랑 둘이서 둘이서 사랑을 할거야 오늘 밤에 아무도 모르...  성인가요  \n",
       "\n",
       "[3984 rows x 6 columns]"
      ]
     },
     "execution_count": 8,
     "metadata": {},
     "output_type": "execute_result"
    }
   ],
   "source": [
    "frames = [df1,df2,df3,df4,df5,df6]\n",
    "result = pd.concat(frames)\n",
    "result"
   ]
  },
  {
   "cell_type": "code",
   "execution_count": 9,
   "metadata": {
    "ExecuteTime": {
     "end_time": "2021-03-19T07:51:10.869838Z",
     "start_time": "2021-03-19T07:51:10.860344Z"
    }
   },
   "outputs": [
    {
     "data": {
      "text/plain": [
       "162"
      ]
     },
     "execution_count": 9,
     "metadata": {},
     "output_type": "execute_result"
    }
   ],
   "source": [
    "df_None = result[result['lyrics']=='None'].index\n",
    "len(df_None)"
   ]
  },
  {
   "cell_type": "code",
   "execution_count": 10,
   "metadata": {
    "ExecuteTime": {
     "end_time": "2021-03-19T07:51:12.354824Z",
     "start_time": "2021-03-19T07:51:12.346179Z"
    }
   },
   "outputs": [],
   "source": [
    "df = result.drop(df_None)"
   ]
  },
  {
   "cell_type": "code",
   "execution_count": 11,
   "metadata": {
    "ExecuteTime": {
     "end_time": "2021-03-19T07:51:13.220674Z",
     "start_time": "2021-03-19T07:51:13.208187Z"
    }
   },
   "outputs": [
    {
     "data": {
      "text/html": [
       "<div>\n",
       "<style scoped>\n",
       "    .dataframe tbody tr th:only-of-type {\n",
       "        vertical-align: middle;\n",
       "    }\n",
       "\n",
       "    .dataframe tbody tr th {\n",
       "        vertical-align: top;\n",
       "    }\n",
       "\n",
       "    .dataframe thead th {\n",
       "        text-align: right;\n",
       "    }\n",
       "</style>\n",
       "<table border=\"1\" class=\"dataframe\">\n",
       "  <thead>\n",
       "    <tr style=\"text-align: right;\">\n",
       "      <th></th>\n",
       "      <th>id</th>\n",
       "      <th>name</th>\n",
       "      <th>singer</th>\n",
       "      <th>img</th>\n",
       "      <th>lyrics</th>\n",
       "      <th>jenre</th>\n",
       "    </tr>\n",
       "  </thead>\n",
       "  <tbody>\n",
       "  </tbody>\n",
       "</table>\n",
       "</div>"
      ],
      "text/plain": [
       "Empty DataFrame\n",
       "Columns: [id, name, singer, img, lyrics, jenre]\n",
       "Index: []"
      ]
     },
     "execution_count": 11,
     "metadata": {},
     "output_type": "execute_result"
    }
   ],
   "source": [
    "df[df['lyrics']=='None']"
   ]
  },
  {
   "cell_type": "code",
   "execution_count": 12,
   "metadata": {},
   "outputs": [],
   "source": [
    "df = df.reset_index(drop=True)"
   ]
  },
  {
   "cell_type": "code",
   "execution_count": 13,
   "metadata": {
    "ExecuteTime": {
     "end_time": "2021-03-19T07:51:22.658780Z",
     "start_time": "2021-03-19T07:51:22.654075Z"
    }
   },
   "outputs": [
    {
     "name": "stdout",
     "output_type": "stream",
     "text": [
      "전체 음악의 수 : 3231\n"
     ]
    }
   ],
   "source": [
    "print('전체 음악의 수 :',len(df))"
   ]
  },
  {
   "cell_type": "code",
   "execution_count": 39,
   "metadata": {},
   "outputs": [
    {
     "ename": "FileNotFoundError",
     "evalue": "[Errno 2] No such file or directory: './data/title_analytics/music.csv'",
     "output_type": "error",
     "traceback": [
      "\u001b[0;31m---------------------------------------------------------------------------\u001b[0m",
      "\u001b[0;31mFileNotFoundError\u001b[0m                         Traceback (most recent call last)",
      "\u001b[0;32m<ipython-input-39-71080a338945>\u001b[0m in \u001b[0;36m<module>\u001b[0;34m\u001b[0m\n\u001b[0;32m----> 1\u001b[0;31m \u001b[0mdf\u001b[0m \u001b[0;34m=\u001b[0m \u001b[0mpd\u001b[0m\u001b[0;34m.\u001b[0m\u001b[0mread_csv\u001b[0m\u001b[0;34m(\u001b[0m\u001b[0;34m'./data/title_analytics/music.csv'\u001b[0m\u001b[0;34m,\u001b[0m \u001b[0mindex_col\u001b[0m\u001b[0;34m=\u001b[0m\u001b[0;36m0\u001b[0m\u001b[0;34m,\u001b[0m \u001b[0mencoding\u001b[0m\u001b[0;34m=\u001b[0m \u001b[0;34m'utf-8'\u001b[0m\u001b[0;34m)\u001b[0m\u001b[0;34m\u001b[0m\u001b[0;34m\u001b[0m\u001b[0m\n\u001b[0m",
      "\u001b[0;32m~/Desktop/LABs/anaconda/envs/nlp2/lib/python3.8/site-packages/pandas/io/parsers.py\u001b[0m in \u001b[0;36mread_csv\u001b[0;34m(filepath_or_buffer, sep, delimiter, header, names, index_col, usecols, squeeze, prefix, mangle_dupe_cols, dtype, engine, converters, true_values, false_values, skipinitialspace, skiprows, skipfooter, nrows, na_values, keep_default_na, na_filter, verbose, skip_blank_lines, parse_dates, infer_datetime_format, keep_date_col, date_parser, dayfirst, cache_dates, iterator, chunksize, compression, thousands, decimal, lineterminator, quotechar, quoting, doublequote, escapechar, comment, encoding, dialect, error_bad_lines, warn_bad_lines, delim_whitespace, low_memory, memory_map, float_precision, storage_options)\u001b[0m\n\u001b[1;32m    608\u001b[0m     \u001b[0mkwds\u001b[0m\u001b[0;34m.\u001b[0m\u001b[0mupdate\u001b[0m\u001b[0;34m(\u001b[0m\u001b[0mkwds_defaults\u001b[0m\u001b[0;34m)\u001b[0m\u001b[0;34m\u001b[0m\u001b[0;34m\u001b[0m\u001b[0m\n\u001b[1;32m    609\u001b[0m \u001b[0;34m\u001b[0m\u001b[0m\n\u001b[0;32m--> 610\u001b[0;31m     \u001b[0;32mreturn\u001b[0m \u001b[0m_read\u001b[0m\u001b[0;34m(\u001b[0m\u001b[0mfilepath_or_buffer\u001b[0m\u001b[0;34m,\u001b[0m \u001b[0mkwds\u001b[0m\u001b[0;34m)\u001b[0m\u001b[0;34m\u001b[0m\u001b[0;34m\u001b[0m\u001b[0m\n\u001b[0m\u001b[1;32m    611\u001b[0m \u001b[0;34m\u001b[0m\u001b[0m\n\u001b[1;32m    612\u001b[0m \u001b[0;34m\u001b[0m\u001b[0m\n",
      "\u001b[0;32m~/Desktop/LABs/anaconda/envs/nlp2/lib/python3.8/site-packages/pandas/io/parsers.py\u001b[0m in \u001b[0;36m_read\u001b[0;34m(filepath_or_buffer, kwds)\u001b[0m\n\u001b[1;32m    460\u001b[0m \u001b[0;34m\u001b[0m\u001b[0m\n\u001b[1;32m    461\u001b[0m     \u001b[0;31m# Create the parser.\u001b[0m\u001b[0;34m\u001b[0m\u001b[0;34m\u001b[0m\u001b[0;34m\u001b[0m\u001b[0m\n\u001b[0;32m--> 462\u001b[0;31m     \u001b[0mparser\u001b[0m \u001b[0;34m=\u001b[0m \u001b[0mTextFileReader\u001b[0m\u001b[0;34m(\u001b[0m\u001b[0mfilepath_or_buffer\u001b[0m\u001b[0;34m,\u001b[0m \u001b[0;34m**\u001b[0m\u001b[0mkwds\u001b[0m\u001b[0;34m)\u001b[0m\u001b[0;34m\u001b[0m\u001b[0;34m\u001b[0m\u001b[0m\n\u001b[0m\u001b[1;32m    463\u001b[0m \u001b[0;34m\u001b[0m\u001b[0m\n\u001b[1;32m    464\u001b[0m     \u001b[0;32mif\u001b[0m \u001b[0mchunksize\u001b[0m \u001b[0;32mor\u001b[0m \u001b[0miterator\u001b[0m\u001b[0;34m:\u001b[0m\u001b[0;34m\u001b[0m\u001b[0;34m\u001b[0m\u001b[0m\n",
      "\u001b[0;32m~/Desktop/LABs/anaconda/envs/nlp2/lib/python3.8/site-packages/pandas/io/parsers.py\u001b[0m in \u001b[0;36m__init__\u001b[0;34m(self, f, engine, **kwds)\u001b[0m\n\u001b[1;32m    817\u001b[0m             \u001b[0mself\u001b[0m\u001b[0;34m.\u001b[0m\u001b[0moptions\u001b[0m\u001b[0;34m[\u001b[0m\u001b[0;34m\"has_index_names\"\u001b[0m\u001b[0;34m]\u001b[0m \u001b[0;34m=\u001b[0m \u001b[0mkwds\u001b[0m\u001b[0;34m[\u001b[0m\u001b[0;34m\"has_index_names\"\u001b[0m\u001b[0;34m]\u001b[0m\u001b[0;34m\u001b[0m\u001b[0;34m\u001b[0m\u001b[0m\n\u001b[1;32m    818\u001b[0m \u001b[0;34m\u001b[0m\u001b[0m\n\u001b[0;32m--> 819\u001b[0;31m         \u001b[0mself\u001b[0m\u001b[0;34m.\u001b[0m\u001b[0m_engine\u001b[0m \u001b[0;34m=\u001b[0m \u001b[0mself\u001b[0m\u001b[0;34m.\u001b[0m\u001b[0m_make_engine\u001b[0m\u001b[0;34m(\u001b[0m\u001b[0mself\u001b[0m\u001b[0;34m.\u001b[0m\u001b[0mengine\u001b[0m\u001b[0;34m)\u001b[0m\u001b[0;34m\u001b[0m\u001b[0;34m\u001b[0m\u001b[0m\n\u001b[0m\u001b[1;32m    820\u001b[0m \u001b[0;34m\u001b[0m\u001b[0m\n\u001b[1;32m    821\u001b[0m     \u001b[0;32mdef\u001b[0m \u001b[0mclose\u001b[0m\u001b[0;34m(\u001b[0m\u001b[0mself\u001b[0m\u001b[0;34m)\u001b[0m\u001b[0;34m:\u001b[0m\u001b[0;34m\u001b[0m\u001b[0;34m\u001b[0m\u001b[0m\n",
      "\u001b[0;32m~/Desktop/LABs/anaconda/envs/nlp2/lib/python3.8/site-packages/pandas/io/parsers.py\u001b[0m in \u001b[0;36m_make_engine\u001b[0;34m(self, engine)\u001b[0m\n\u001b[1;32m   1048\u001b[0m             )\n\u001b[1;32m   1049\u001b[0m         \u001b[0;31m# error: Too many arguments for \"ParserBase\"\u001b[0m\u001b[0;34m\u001b[0m\u001b[0;34m\u001b[0m\u001b[0;34m\u001b[0m\u001b[0m\n\u001b[0;32m-> 1050\u001b[0;31m         \u001b[0;32mreturn\u001b[0m \u001b[0mmapping\u001b[0m\u001b[0;34m[\u001b[0m\u001b[0mengine\u001b[0m\u001b[0;34m]\u001b[0m\u001b[0;34m(\u001b[0m\u001b[0mself\u001b[0m\u001b[0;34m.\u001b[0m\u001b[0mf\u001b[0m\u001b[0;34m,\u001b[0m \u001b[0;34m**\u001b[0m\u001b[0mself\u001b[0m\u001b[0;34m.\u001b[0m\u001b[0moptions\u001b[0m\u001b[0;34m)\u001b[0m  \u001b[0;31m# type: ignore[call-arg]\u001b[0m\u001b[0;34m\u001b[0m\u001b[0;34m\u001b[0m\u001b[0m\n\u001b[0m\u001b[1;32m   1051\u001b[0m \u001b[0;34m\u001b[0m\u001b[0m\n\u001b[1;32m   1052\u001b[0m     \u001b[0;32mdef\u001b[0m \u001b[0m_failover_to_python\u001b[0m\u001b[0;34m(\u001b[0m\u001b[0mself\u001b[0m\u001b[0;34m)\u001b[0m\u001b[0;34m:\u001b[0m\u001b[0;34m\u001b[0m\u001b[0;34m\u001b[0m\u001b[0m\n",
      "\u001b[0;32m~/Desktop/LABs/anaconda/envs/nlp2/lib/python3.8/site-packages/pandas/io/parsers.py\u001b[0m in \u001b[0;36m__init__\u001b[0;34m(self, src, **kwds)\u001b[0m\n\u001b[1;32m   1865\u001b[0m \u001b[0;34m\u001b[0m\u001b[0m\n\u001b[1;32m   1866\u001b[0m         \u001b[0;31m# open handles\u001b[0m\u001b[0;34m\u001b[0m\u001b[0;34m\u001b[0m\u001b[0;34m\u001b[0m\u001b[0m\n\u001b[0;32m-> 1867\u001b[0;31m         \u001b[0mself\u001b[0m\u001b[0;34m.\u001b[0m\u001b[0m_open_handles\u001b[0m\u001b[0;34m(\u001b[0m\u001b[0msrc\u001b[0m\u001b[0;34m,\u001b[0m \u001b[0mkwds\u001b[0m\u001b[0;34m)\u001b[0m\u001b[0;34m\u001b[0m\u001b[0;34m\u001b[0m\u001b[0m\n\u001b[0m\u001b[1;32m   1868\u001b[0m         \u001b[0;32massert\u001b[0m \u001b[0mself\u001b[0m\u001b[0;34m.\u001b[0m\u001b[0mhandles\u001b[0m \u001b[0;32mis\u001b[0m \u001b[0;32mnot\u001b[0m \u001b[0;32mNone\u001b[0m\u001b[0;34m\u001b[0m\u001b[0;34m\u001b[0m\u001b[0m\n\u001b[1;32m   1869\u001b[0m         \u001b[0;32mfor\u001b[0m \u001b[0mkey\u001b[0m \u001b[0;32min\u001b[0m \u001b[0;34m(\u001b[0m\u001b[0;34m\"storage_options\"\u001b[0m\u001b[0;34m,\u001b[0m \u001b[0;34m\"encoding\"\u001b[0m\u001b[0;34m,\u001b[0m \u001b[0;34m\"memory_map\"\u001b[0m\u001b[0;34m,\u001b[0m \u001b[0;34m\"compression\"\u001b[0m\u001b[0;34m)\u001b[0m\u001b[0;34m:\u001b[0m\u001b[0;34m\u001b[0m\u001b[0;34m\u001b[0m\u001b[0m\n",
      "\u001b[0;32m~/Desktop/LABs/anaconda/envs/nlp2/lib/python3.8/site-packages/pandas/io/parsers.py\u001b[0m in \u001b[0;36m_open_handles\u001b[0;34m(self, src, kwds)\u001b[0m\n\u001b[1;32m   1360\u001b[0m         \u001b[0mLet\u001b[0m \u001b[0mthe\u001b[0m \u001b[0mreaders\u001b[0m \u001b[0mopen\u001b[0m \u001b[0mIOHanldes\u001b[0m \u001b[0mafter\u001b[0m \u001b[0mthey\u001b[0m \u001b[0mare\u001b[0m \u001b[0mdone\u001b[0m \u001b[0;32mwith\u001b[0m \u001b[0mtheir\u001b[0m \u001b[0mpotential\u001b[0m \u001b[0mraises\u001b[0m\u001b[0;34m.\u001b[0m\u001b[0;34m\u001b[0m\u001b[0;34m\u001b[0m\u001b[0m\n\u001b[1;32m   1361\u001b[0m         \"\"\"\n\u001b[0;32m-> 1362\u001b[0;31m         self.handles = get_handle(\n\u001b[0m\u001b[1;32m   1363\u001b[0m             \u001b[0msrc\u001b[0m\u001b[0;34m,\u001b[0m\u001b[0;34m\u001b[0m\u001b[0;34m\u001b[0m\u001b[0m\n\u001b[1;32m   1364\u001b[0m             \u001b[0;34m\"r\"\u001b[0m\u001b[0;34m,\u001b[0m\u001b[0;34m\u001b[0m\u001b[0;34m\u001b[0m\u001b[0m\n",
      "\u001b[0;32m~/Desktop/LABs/anaconda/envs/nlp2/lib/python3.8/site-packages/pandas/io/common.py\u001b[0m in \u001b[0;36mget_handle\u001b[0;34m(path_or_buf, mode, encoding, compression, memory_map, is_text, errors, storage_options)\u001b[0m\n\u001b[1;32m    640\u001b[0m                 \u001b[0merrors\u001b[0m \u001b[0;34m=\u001b[0m \u001b[0;34m\"replace\"\u001b[0m\u001b[0;34m\u001b[0m\u001b[0;34m\u001b[0m\u001b[0m\n\u001b[1;32m    641\u001b[0m             \u001b[0;31m# Encoding\u001b[0m\u001b[0;34m\u001b[0m\u001b[0;34m\u001b[0m\u001b[0;34m\u001b[0m\u001b[0m\n\u001b[0;32m--> 642\u001b[0;31m             handle = open(\n\u001b[0m\u001b[1;32m    643\u001b[0m                 \u001b[0mhandle\u001b[0m\u001b[0;34m,\u001b[0m\u001b[0;34m\u001b[0m\u001b[0;34m\u001b[0m\u001b[0m\n\u001b[1;32m    644\u001b[0m                 \u001b[0mioargs\u001b[0m\u001b[0;34m.\u001b[0m\u001b[0mmode\u001b[0m\u001b[0;34m,\u001b[0m\u001b[0;34m\u001b[0m\u001b[0;34m\u001b[0m\u001b[0m\n",
      "\u001b[0;31mFileNotFoundError\u001b[0m: [Errno 2] No such file or directory: './data/title_analytics/music.csv'"
     ]
    }
   ],
   "source": [
    "df = pd.read_csv('/Users/shift/Desktop/LABs/NLP/semi-pj_lyrics/working/server/music.csv', index_col=0, encoding= 'utf-8')"
   ]
  },
  {
   "cell_type": "code",
   "execution_count": 14,
   "metadata": {
    "ExecuteTime": {
     "end_time": "2021-03-19T07:51:23.594876Z",
     "start_time": "2021-03-19T07:51:23.578757Z"
    },
    "scrolled": true
   },
   "outputs": [
    {
     "data": {
      "text/plain": [
       "0     하루의 일을 끝내고 돌아가는 거리엔 사람의 물결 하늘엔 별이 하나 둘 반짝이면 가...\n",
       "1     조기를 담뿍잡아 기폭을 올리고 온다던 그배는 어이하여 아니오나 수평선 바라보며 그...\n",
       "2    1절  임이라 부르리까 당신이라고 부르리까  사랑을 하면서도 사랑을 참고사는  마음...\n",
       "3     헤일 수 없이 수많은 밤을 내 가슴 도려내는 아픔에 겨워 얼마나 울었던가 동백아가...\n",
       "4     그 날 밤 그 자리에 둘이서 만났을 때 똑같은 그 순간에 똑같은 마음이 달빛에 젖...\n",
       "Name: lyrics, dtype: object"
      ]
     },
     "execution_count": 14,
     "metadata": {},
     "output_type": "execute_result"
    }
   ],
   "source": [
    "df['lyrics'].head(5)"
   ]
  },
  {
   "cell_type": "code",
   "execution_count": 15,
   "metadata": {
    "ExecuteTime": {
     "end_time": "2021-03-19T07:51:25.678748Z",
     "start_time": "2021-03-19T07:51:25.496646Z"
    }
   },
   "outputs": [],
   "source": [
    "corpus = []\n",
    "for words in df['lyrics']:\n",
    "    corpus.append(words.split())"
   ]
  },
  {
   "cell_type": "markdown",
   "metadata": {},
   "source": [
    "## 사전 훈련된 워드 임베딩 사용 "
   ]
  },
  {
   "cell_type": "code",
   "execution_count": 16,
   "metadata": {
    "ExecuteTime": {
     "end_time": "2021-03-19T07:51:29.322340Z",
     "start_time": "2021-03-19T07:51:28.354653Z"
    }
   },
   "outputs": [],
   "source": [
    "import gensim\n",
    "ko_model = gensim.models.Word2Vec.load('./ko/ko.bin')"
   ]
  },
  {
   "cell_type": "code",
   "execution_count": 17,
   "metadata": {
    "ExecuteTime": {
     "end_time": "2021-03-19T07:47:22.298007Z",
     "start_time": "2021-03-19T07:47:22.255058Z"
    }
   },
   "outputs": [],
   "source": [
    "# 테스트 해보기\n",
    "a = ko_model.wv.most_similar('사랑')"
   ]
  },
  {
   "cell_type": "code",
   "execution_count": 18,
   "metadata": {
    "ExecuteTime": {
     "end_time": "2021-03-19T07:36:12.599075Z",
     "start_time": "2021-03-19T07:36:12.591089Z"
    }
   },
   "outputs": [
    {
     "data": {
      "text/plain": [
       "[('슬픔', 0.7216662764549255),\n",
       " ('행복', 0.6759077310562134),\n",
       " ('절망', 0.6468985080718994),\n",
       " ('기쁨', 0.6458414196968079),\n",
       " ('이별', 0.6334798336029053),\n",
       " ('추억', 0.6320937275886536),\n",
       " ('인생', 0.6216273307800293),\n",
       " ('애정', 0.6206069588661194),\n",
       " ('연인', 0.6186063289642334),\n",
       " ('유혹', 0.5965287685394287)]"
      ]
     },
     "execution_count": 18,
     "metadata": {},
     "output_type": "execute_result"
    }
   ],
   "source": [
    "a"
   ]
  },
  {
   "cell_type": "code",
   "execution_count": 19,
   "metadata": {
    "ExecuteTime": {
     "end_time": "2021-03-19T08:29:16.917436Z",
     "start_time": "2021-03-19T08:29:12.518957Z"
    }
   },
   "outputs": [
    {
     "data": {
      "text/plain": [
       "(2176500, 7603770)"
      ]
     },
     "execution_count": 19,
     "metadata": {},
     "output_type": "execute_result"
    }
   ],
   "source": [
    "# ko_model = Word2Vec(size = 300, window=5, min_count = 2, workers = -1)\n",
    "# ko_model.build_vocab(corpus)\n",
    "# ko_model.intersect_word2vec_format('ko.zip', lockf=1.0, binary=True, encoding='utf-16')\n",
    "ko_model.train(corpus, total_examples = ko_model.corpus_count, epochs = 15)"
   ]
  },
  {
   "cell_type": "code",
   "execution_count": 20,
   "metadata": {
    "ExecuteTime": {
     "end_time": "2021-03-19T07:51:41.058443Z",
     "start_time": "2021-03-19T07:51:41.049646Z"
    }
   },
   "outputs": [],
   "source": [
    "def vectors(document_list):\n",
    "    document_embedding_list = []\n",
    "\n",
    "    # 각 문서에 대해서\n",
    "    for line in document_list:\n",
    "        doc2vec = None\n",
    "        count = 0\n",
    "        for word in line.split():\n",
    "            if word in ko_model.wv.vocab:\n",
    "                count += 1\n",
    "                # 해당 문서에 있는 모든 단어들의 벡터값을 더한다.\n",
    "                if doc2vec is None:\n",
    "                    doc2vec = ko_model[word]\n",
    "                else:\n",
    "                    doc2vec = doc2vec + ko_model[word]\n",
    "\n",
    "        if doc2vec is not None:\n",
    "            # 단어 벡터를 모두 더한 벡터의 값을 문서 길이로 나눠준다.\n",
    "            doc2vec = doc2vec / count\n",
    "            document_embedding_list.append(doc2vec)\n",
    "\n",
    "    # 각 문서에 대한 문서 벡터 리스트를 리턴\n",
    "    return document_embedding_list"
   ]
  },
  {
   "cell_type": "code",
   "execution_count": 21,
   "metadata": {
    "ExecuteTime": {
     "end_time": "2021-03-19T07:51:46.081071Z",
     "start_time": "2021-03-19T07:51:43.603785Z"
    },
    "scrolled": true
   },
   "outputs": [
    {
     "name": "stderr",
     "output_type": "stream",
     "text": [
      "<ipython-input-20-bc81a12513a2>:13: DeprecationWarning: Call to deprecated `__getitem__` (Method will be removed in 4.0.0, use self.wv.__getitem__() instead).\n",
      "  doc2vec = ko_model[word]\n",
      "<ipython-input-20-bc81a12513a2>:15: DeprecationWarning: Call to deprecated `__getitem__` (Method will be removed in 4.0.0, use self.wv.__getitem__() instead).\n",
      "  doc2vec = doc2vec + ko_model[word]\n"
     ]
    },
    {
     "name": "stdout",
     "output_type": "stream",
     "text": [
      "문서 벡터의 수 : 3218\n"
     ]
    }
   ],
   "source": [
    "document_embedding_list = vectors(df['lyrics'])\n",
    "print('문서 벡터의 수 :',len(document_embedding_list))"
   ]
  },
  {
   "cell_type": "code",
   "execution_count": 22,
   "metadata": {
    "ExecuteTime": {
     "end_time": "2021-03-19T07:51:48.152053Z",
     "start_time": "2021-03-19T07:51:48.027260Z"
    }
   },
   "outputs": [
    {
     "name": "stdout",
     "output_type": "stream",
     "text": [
      "코사인 유사도 매트릭스의 크기 : (3218, 3218)\n"
     ]
    }
   ],
   "source": [
    "cosine_similarities = cosine_similarity(document_embedding_list, document_embedding_list)\n",
    "print('코사인 유사도 매트릭스의 크기 :',cosine_similarities.shape)"
   ]
  },
  {
   "cell_type": "markdown",
   "metadata": {},
   "source": [
    "### 노래 제목 공백 제거된 컬럼 추가 작업"
   ]
  },
  {
   "cell_type": "code",
   "execution_count": 27,
   "metadata": {},
   "outputs": [],
   "source": [
    "rename_list = []\n",
    "for i in range(len(df)):\n",
    "    rename_list.append(df.name[i].strip())\n",
    "df['name'] = rename_list"
   ]
  },
  {
   "cell_type": "code",
   "execution_count": 28,
   "metadata": {},
   "outputs": [],
   "source": [
    "# for i in range(len(df)):\n",
    "#     df['rename'][i] = df['name'][i].strip()\n",
    "    \n",
    "# df['rename'].head(10)"
   ]
  },
  {
   "cell_type": "markdown",
   "metadata": {},
   "source": [
    "## 추천 함수 생성 작업"
   ]
  },
  {
   "cell_type": "code",
   "execution_count": 35,
   "metadata": {
    "ExecuteTime": {
     "end_time": "2021-03-19T08:16:45.904998Z",
     "start_time": "2021-03-19T08:16:45.891665Z"
    }
   },
   "outputs": [],
   "source": [
    "def recommendations(name):\n",
    "    music = df[['name', 'img']]\n",
    "\n",
    "    # 노래의 제목을 입력하면 해당 제목의 인덱스를 리턴받아 idx에 저장.\n",
    "    indices = pd.Series(df.index, index = df['name']).drop_duplicates()    \n",
    "    idx = indices[name]\n",
    "\n",
    "    # 입력된 노래 가사(document embedding)가 유사한 노래 5개 선정.\n",
    "    sim_scores = list(enumerate(cosine_similarities[idx]))\n",
    "    sim_scores = sorted(sim_scores, key = lambda x: x[1], reverse = True)\n",
    "    sim_scores = sim_scores[1:31]\n",
    "\n",
    "    # 가장 유사한 음악 5개의 인덱스\n",
    "    music_indices = [i[0] for i in sim_scores]\n",
    "#     print(music_indices)\n",
    "    \n",
    "    # 전체 데이터프레임에서 해당 인덱스의 행만 추출. 5개의 행을 가진다.\n",
    "    recommend = music.iloc[music_indices].reset_index(drop=True)\n",
    "    print(recommend)\n",
    "    fig = plt.figure(figsize=(20, 30))\n",
    "\n",
    "    # 데이터프레임으로부터 순차적으로 이미지를 출력\n",
    "#     for index, row in recommend.iterrows():\n",
    "#         response = requests.get(row['img'])\n",
    "#         img = Image.open(BytesIO(response.content))\n",
    "#         fig.add_subplot(5, 6, index + 1)\n",
    "#         plt.imshow(img)\n",
    "#         path= 'C:/Users/user/쥬피터 작업 파일/semi-project/final_since_info_v2/NanumBarunGothic.ttf'\n",
    "#         fontprop = fm.FontProperties(fname=path, size=10)\n",
    "#         plt.title(row['name'], fontproperties=fontprop)"
   ]
  },
  {
   "cell_type": "code",
   "execution_count": 38,
   "metadata": {
    "ExecuteTime": {
     "end_time": "2021-03-19T08:16:34.451522Z",
     "start_time": "2021-03-19T08:16:26.115981Z"
    }
   },
   "outputs": [
    {
     "name": "stdout",
     "output_type": "stream",
     "text": [
      "                       name                                                img\n",
      "0                        바보  https://cdnimg.melon.co.kr/cm/album/images/000...\n",
      "1       N분의1 (Feat. 다이나믹듀오)  https://cdnimg.melon.co.kr/cm/album/images/100...\n",
      "2                   우리 헤어지자  https://cdnimg.melon.co.kr/cm/album/images/006...\n",
      "3                   가지마 가지마  https://cdnimg.melon.co.kr/cm/album/images/003...\n",
      "4                 Like this  https://cdnimg.melon.co.kr/cm/album/images/021...\n",
      "5                A Real Man  https://cdnimg.melon.co.kr/cm/album/images/022...\n",
      "6                        이별  https://cdnimg.melon.co.kr/cm/album/images/000...\n",
      "7               우리 사랑하지 말아요  https://cdnimg.melon.co.kr/cm/album/images/023...\n",
      "8                   빙고 (아싸)  https://cdnimg.melon.co.kr/cm/album/images/000...\n",
      "9               화해연가 (和解戀歌)  https://cdnimg.melon.co.kr/cm/album/images/003...\n",
      "10                   심장이 없어  https://cdnimg.melon.co.kr/cm/album/images/005...\n",
      "11                    사월의 눈  https://cdnimg.melon.co.kr/cm/album/images/023...\n",
      "12                  유혹의 소나타  https://cdnimg.melon.co.kr/cm/album/images/003...\n",
      "13           공감 (Feat. 서영은)  https://cdnimg.melon.co.kr/cm/album/images/026...\n",
      "14  왜 (Keep Your Head Down)  https://cdnimg.melon.co.kr/cm/album/images/011...\n",
      "15                    PARTY  https://cdnimg.melon.co.kr/cm/album/images/023...\n",
      "16                     되돌리다  https://cdnimg.melon.co.kr/cm/album/images/021...\n",
      "17                   너를 사랑해  https://cdnimg.melon.co.kr/cm/album/images/000...\n",
      "18                     Dash  https://cdnimg.melon.co.kr/cm/album/images/000...\n",
      "19                       하나  https://cdnimg.melon.co.kr/cm/album/images/007...\n",
      "20       If I Leave (나 가거든)  https://cdnimg.melon.co.kr/cm/album/images/000...\n",
      "21                그런 날이 오겠죠  https://cdnimg.melon.co.kr/cm/album/images/000...\n",
      "22              Hey Mr. Big  https://cdnimg.melon.co.kr/cm/album/images/003...\n",
      "23                      미스터  https://cdnimg.melon.co.kr/cm/album/images/006...\n",
      "24                      사랑비  https://cdnimg.melon.co.kr/cm/album/images/006...\n",
      "25          Good-night Kiss  https://cdnimg.melon.co.kr/cm/album/images/022...\n",
      "26                    미스코리아  https://cdnimg.melon.co.kr/cm/album/images/021...\n",
      "27               Stay in Me  https://cdnimg.melon.co.kr/cm/album/images/003...\n",
      "28                멀어지는 그 미소  https://cdnimg.melon.co.kr/cm/album/images/003...\n",
      "29                 나에게로의 초대  https://cdnimg.melon.co.kr/cm/album/images/003...\n"
     ]
    },
    {
     "data": {
      "text/plain": [
       "<Figure size 1440x2160 with 0 Axes>"
      ]
     },
     "metadata": {},
     "output_type": "display_data"
    }
   ],
   "source": [
    "recommendations('붉은 노을')"
   ]
  },
  {
   "cell_type": "markdown",
   "metadata": {},
   "source": [
    "##  데이터 저장"
   ]
  },
  {
   "cell_type": "code",
   "execution_count": 33,
   "metadata": {
    "ExecuteTime": {
     "end_time": "2021-03-19T08:20:03.618782Z",
     "start_time": "2021-03-19T08:20:03.418515Z"
    }
   },
   "outputs": [],
   "source": [
    "df.to_csv('/Users/shift/Desktop/LABs/NLP/semi-pj_lyrics/working/server/music.csv', index=False, encoding='utf-8')"
   ]
  }
 ],
 "metadata": {
  "kernelspec": {
   "display_name": "Python 3",
   "language": "python",
   "name": "python3"
  },
  "language_info": {
   "codemirror_mode": {
    "name": "ipython",
    "version": 3
   },
   "file_extension": ".py",
   "mimetype": "text/x-python",
   "name": "python",
   "nbconvert_exporter": "python",
   "pygments_lexer": "ipython3",
   "version": "3.8.8"
  }
 },
 "nbformat": 4,
 "nbformat_minor": 4
}
